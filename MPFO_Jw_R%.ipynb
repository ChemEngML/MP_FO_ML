{
 "cells": [
  {
   "cell_type": "code",
   "execution_count": null,
   "id": "d7b93fdc",
   "metadata": {},
   "outputs": [],
   "source": [
    "# Import necessary libraries\n",
    "\n",
    "#! pip install pycaret full \n",
    "import pycaret\n",
    "#! pip install pandas\n",
    "from pycaret.regression import *\n",
    "import pandas as pd\n",
    "import matplotlib.pyplot as plt\n",
    "import seaborn as sns"
   ]
  },
  {
   "cell_type": "code",
   "execution_count": null,
   "id": "d69bb598",
   "metadata": {},
   "outputs": [],
   "source": [
    "# Import dataset & choosing desired parameters to analyze\n",
    "df = pd.read_csv(\"Database.csv\")\n",
    "df = df[['Micro Pollutant', 'MP Category', 'Initial Concentration of MP (mg/L)', 'Compound MW (g/mol)', 'Compound Charge', 'Initial FS pH', 'Initial DS pH','Type of MB', 'MB Contact Angle (°)', 'MB Zeta Potential (mV)', 'Draw Solution', 'DS MW (g mol-1)', 'DS Concentration (M)', 'Operating Time (h)', 'Cross Flow Velocity (cm/s)','Water Flux, Jw (LMH)','Reverse Salt Flux, Js (gMH)','Temperature (⁰C)', 'Removal Rate (%)']]\n",
    "df"
   ]
  },
  {
   "cell_type": "code",
   "execution_count": null,
   "id": "bef06290",
   "metadata": {},
   "outputs": [],
   "source": [
    "# Exploratory Data Analysis (EDA)\n",
    "# Describing main statistical features of parameters in dataset\n",
    "df.describe()"
   ]
  },
  {
   "cell_type": "code",
   "execution_count": null,
   "id": "58762811",
   "metadata": {},
   "outputs": [],
   "source": [
    "# EDA: Different micro pollutant categories observed \n",
    "sns.set(font_scale=3)\n",
    "category_order = df['MP Category'].value_counts().sort_values(ascending=False).index\n",
    "\n",
    "ax=sns.catplot(x='MP Category' ,kind=\"count\",data=df,order=category_order, height=10, aspect=2)\n",
    "\n",
    "plt.xticks(rotation=90)\n",
    "plt.yticks(rotation=90)\n",
    "plt.figure(figsize=(25,25))\n"
   ]
  },
  {
   "cell_type": "code",
   "execution_count": null,
   "id": "110f3279",
   "metadata": {},
   "outputs": [],
   "source": [
    "# Setting up the model by choosing water flux (Jw) as the prediction target\n",
    "\n",
    "setup(data = df,target = 'Water Flux, Jw (LMH)',session_id = 123)"
   ]
  },
  {
   "cell_type": "code",
   "execution_count": null,
   "id": "2908376c",
   "metadata": {},
   "outputs": [],
   "source": [
    "# Plotting correlation between parameters in dataset\n",
    "\n",
    "plt.figure(figsize=(25,25))\n",
    "my_correlation = df.corr()\n",
    "sns.heatmap(my_correlation,annot=True, cmap='coolwarm',annot_kws={\"size\": 16})\n",
    "ax = plt.gca()\n",
    "ax.tick_params(axis='x', labelsize=20)\n",
    "ax.tick_params(axis='y', labelsize=20)\n",
    "ax.set_xticklabels(ax.get_xticklabels(), rotation=90)\n",
    "ax.set_yticklabels(ax.get_yticklabels(), rotation=360)\n",
    "cbar = plt.gcf().axes[-1]\n",
    "cbar.tick_params(labelsize=16)\n"
   ]
  },
  {
   "cell_type": "code",
   "execution_count": null,
   "id": "cf4e852e",
   "metadata": {},
   "outputs": [],
   "source": [
    "# Refining the dataset removing inputs with very hitg correlation\n",
    "\n",
    "df = df[['Micro Pollutant', 'MP Category', 'Initial Concentration of MP (mg/L)', 'Compound MW (g/mol)', 'Compound Charge', 'Initial FS pH','Type of MB', 'MB Contact Angle (°)', 'Draw Solution', 'DS MW (g mol-1)', 'DS Concentration (M)', 'Operating Time (h)', 'Cross Flow Velocity (cm/s)','Water Flux, Jw (LMH)','Reverse Salt Flux, Js (gMH)','Temperature (⁰C)', 'Removal Rate (%)']]\n",
    "\n"
   ]
  },
  {
   "cell_type": "code",
   "execution_count": null,
   "id": "61ebc2c0",
   "metadata": {},
   "outputs": [],
   "source": [
    "# Plotting correlation between parameters in modified dataset\n",
    "plt.figure(figsize=(25,25))\n",
    "my_correlation = df.corr()\n",
    "sns.heatmap(my_correlation,annot=True, cmap='coolwarm',annot_kws={\"size\": 16})\n",
    "ax = plt.gca()\n",
    "ax.tick_params(axis='x', labelsize=20)\n",
    "ax.tick_params(axis='y', labelsize=20)\n",
    "ax.set_xticklabels(ax.get_xticklabels(), rotation=90)\n",
    "ax.set_yticklabels(ax.get_yticklabels(), rotation=360)\n",
    "cbar = plt.gcf().axes[-1]\n",
    "cbar.tick_params(labelsize=16)"
   ]
  },
  {
   "cell_type": "code",
   "execution_count": null,
   "id": "d88dedc5",
   "metadata": {
    "scrolled": true
   },
   "outputs": [],
   "source": [
    "# One-hot encoding categorical parameters for ML\n",
    "# Not needed as PyCaret takes care of it\n",
    "#MP=pd.get_dummies(df['Micro Pollutant'])\n",
    "#MP_Cat=pd.get_dummies(df['MP Category'])\n",
    "#MB=pd.get_dummies(df['Type of MB'])\n",
    "#DS=pd.get_dummies(df['Draw Solution'])\n",
    "#df = pd.concat([df,MP,MP_Cat, MB,DS],axis=1)\n",
    "#df.to_csv('modified_dataset.csv')"
   ]
  },
  {
   "cell_type": "code",
   "execution_count": null,
   "id": "a04d0835",
   "metadata": {
    "scrolled": false
   },
   "outputs": [],
   "source": [
    "# Auto ML using PyCaret with all regression models available\n",
    "best = compare_models() "
   ]
  },
  {
   "cell_type": "code",
   "execution_count": null,
   "id": "b986abf8",
   "metadata": {},
   "outputs": [],
   "source": [
    "# Save the table to an Excel file\n",
    "#table = pd.DataFrame(best)\n",
    "#table.to_excel('model_performance.xlsx', index=False)"
   ]
  },
  {
   "cell_type": "code",
   "execution_count": null,
   "id": "5854b719",
   "metadata": {},
   "outputs": [],
   "source": [
    " # Creating the ML model based on best models compared above: Gradient Boosting Regress\n",
    "gbr=create_model('gbr')"
   ]
  },
  {
   "cell_type": "code",
   "execution_count": null,
   "id": "bc205db3",
   "metadata": {},
   "outputs": [],
   "source": [
    "# Tuning GBR model parameters with 50 times of itterations\n",
    "tuned_gbr = tune_model(gbr, choose_better = True, n_iter = 50)"
   ]
  },
  {
   "cell_type": "code",
   "execution_count": null,
   "id": "7d3f7f36",
   "metadata": {},
   "outputs": [],
   "source": [
    "# Saving the GBR model to use in the app\n",
    "save_model(gbr, model_name = 'GradientBoostingRegressor')"
   ]
  },
  {
   "cell_type": "code",
   "execution_count": null,
   "id": "dd3660b5",
   "metadata": {},
   "outputs": [],
   "source": [
    "# Plotting prediction accuracy of GBR\n",
    "plot_model(gbr)"
   ]
  },
  {
   "cell_type": "code",
   "execution_count": null,
   "id": "d4ade9c1",
   "metadata": {},
   "outputs": [],
   "source": [
    "plot_model(gbr, plot = 'error')"
   ]
  },
  {
   "cell_type": "code",
   "execution_count": null,
   "id": "31afa3b8",
   "metadata": {},
   "outputs": [],
   "source": [
    " # Creating the ML model based on best models compared above: Extreme Gradient Boosting \n",
    "\n",
    "xgb = create_model('xgboost')"
   ]
  },
  {
   "cell_type": "code",
   "execution_count": null,
   "id": "794dbbe5",
   "metadata": {},
   "outputs": [],
   "source": [
    "# Plotting prediction accuracy of XGB\n",
    "\n",
    "plot_model(xgb)\n",
    "plot_model(xgb, plot = 'error')"
   ]
  },
  {
   "cell_type": "code",
   "execution_count": null,
   "id": "934add5b",
   "metadata": {},
   "outputs": [],
   "source": [
    "interpret_model(xgb)"
   ]
  },
  {
   "cell_type": "code",
   "execution_count": null,
   "id": "087db6a4",
   "metadata": {},
   "outputs": [],
   "source": [
    "# Creating the ML model based on best models compared above: Random Forest\n",
    "\n",
    "rf = create_model('rf')\n",
    "\n",
    "# Plotting prediction accuracy of RF\n",
    "plot_model(rf)\n",
    "plot_model(rf, plot = 'error')"
   ]
  },
  {
   "cell_type": "code",
   "execution_count": null,
   "id": "a54e8eff",
   "metadata": {},
   "outputs": [],
   "source": [
    "# Feature importance plot by GBR\n",
    "\n",
    "plot_model(gbr, plot = 'feature')\n"
   ]
  },
  {
   "cell_type": "code",
   "execution_count": null,
   "id": "1e4a108a",
   "metadata": {},
   "outputs": [],
   "source": [
    "interpret_model(rf)\n",
    "plot_model(rf, plot = 'feature')"
   ]
  },
  {
   "cell_type": "code",
   "execution_count": null,
   "id": "1308da9c",
   "metadata": {},
   "outputs": [],
   "source": [
    "# Plot SHAP value (impact on model output) plot\n",
    "interpret_model(xgb)"
   ]
  },
  {
   "cell_type": "code",
   "execution_count": null,
   "id": "7fa16508",
   "metadata": {},
   "outputs": [],
   "source": [
    "# Setting up a new model by choosing Rejection rate (R) as the prediction target\n",
    "setup(data = df, target = 'Removal Rate (%)' ,session_id = 123 ) \n",
    "\n",
    "#optional commands to pass to the \"setup()\":\n",
    "#remove_outliers = True\n",
    "# feature_selection = True"
   ]
  },
  {
   "cell_type": "code",
   "execution_count": null,
   "id": "70f7192e",
   "metadata": {},
   "outputs": [],
   "source": [
    "# Plotting correlation between parameters in modified dataset\n",
    "plt.figure(figsize=(25,25))\n",
    "my_correlation = df.corr()\n",
    "sns.heatmap(my_correlation,annot=True, cmap='coolwarm',annot_kws={\"size\": 16})\n",
    "ax = plt.gca()\n",
    "ax.tick_params(axis='x', labelsize=20)\n",
    "ax.tick_params(axis='y', labelsize=20)\n",
    "ax.set_xticklabels(ax.get_xticklabels(), rotation=90)\n",
    "ax.set_yticklabels(ax.get_yticklabels(), rotation=360)\n",
    "cbar = plt.gcf().axes[-1]\n",
    "cbar.tick_params(labelsize=16)"
   ]
  },
  {
   "cell_type": "code",
   "execution_count": null,
   "id": "117adadf",
   "metadata": {},
   "outputs": [],
   "source": [
    "# Auto ML using PyCaret with all regression models available\n",
    "best = compare_models() "
   ]
  },
  {
   "cell_type": "code",
   "execution_count": null,
   "id": "5ea18991",
   "metadata": {},
   "outputs": [],
   "source": [
    " # Creating the ML model based on best models compared above: Gradient Boosting Regress\n",
    "gbr=create_model('gbr')"
   ]
  },
  {
   "cell_type": "code",
   "execution_count": null,
   "id": "e370a1be",
   "metadata": {},
   "outputs": [],
   "source": [
    "tuned_gbr = tune_model(gbr, choose_better = True, n_iter = 50)"
   ]
  },
  {
   "cell_type": "code",
   "execution_count": null,
   "id": "35480e57",
   "metadata": {},
   "outputs": [],
   "source": [
    "# Plotting prediction accuracy of GBR\n",
    "plot_model(tuned_gbr)"
   ]
  },
  {
   "cell_type": "code",
   "execution_count": null,
   "id": "23a2b87e",
   "metadata": {},
   "outputs": [],
   "source": [
    "plot_model(tuned_gbr, plot = 'error')"
   ]
  },
  {
   "cell_type": "code",
   "execution_count": null,
   "id": "16f8682e",
   "metadata": {},
   "outputs": [],
   "source": [
    "plot_model(tuned_xgb, plot = 'auc')"
   ]
  },
  {
   "cell_type": "code",
   "execution_count": null,
   "id": "93171ac2",
   "metadata": {},
   "outputs": [],
   "source": [
    " # Creating the ML model based on best models compared above: Extreme Gradient Boosting \n",
    "\n",
    "xgb = create_model('xgboost')"
   ]
  },
  {
   "cell_type": "code",
   "execution_count": null,
   "id": "af3de45a",
   "metadata": {},
   "outputs": [],
   "source": [
    "# Tuning GBR model parameters with 50 times of itterations\n",
    "tuned_xgb = tune_model(xgb, choose_better = True, n_iter = 50)"
   ]
  },
  {
   "cell_type": "code",
   "execution_count": null,
   "id": "8d63e086",
   "metadata": {},
   "outputs": [],
   "source": [
    "# Plotting prediction accuracy of XGB\n",
    "\n",
    "plot_model(tuned_xgb)"
   ]
  },
  {
   "cell_type": "code",
   "execution_count": null,
   "id": "47f1f0cd",
   "metadata": {},
   "outputs": [],
   "source": [
    "# Plotting prediction error of tuned XGB\n",
    "plot_model(tuned_xgb, plot = 'error')"
   ]
  },
  {
   "cell_type": "code",
   "execution_count": null,
   "id": "7e194639",
   "metadata": {},
   "outputs": [],
   "source": [
    "# Plot SHAP value (impact on model output) plot by XGB\n",
    "interpret_model(xgb)"
   ]
  },
  {
   "cell_type": "code",
   "execution_count": null,
   "id": "bff69e5a",
   "metadata": {
    "scrolled": true
   },
   "outputs": [],
   "source": [
    "# Creating the ML model based on best models compared above: Random Forest\n",
    "rf = create_model('rf')"
   ]
  },
  {
   "cell_type": "code",
   "execution_count": null,
   "id": "c9cacd68",
   "metadata": {},
   "outputs": [],
   "source": [
    "# Plotting prediction accuracy of XGB\n",
    "plot_model(xgb)"
   ]
  },
  {
   "cell_type": "code",
   "execution_count": null,
   "id": "0c5445ae",
   "metadata": {},
   "outputs": [],
   "source": [
    "# Plotting prediction accuracy of RF\n",
    "plot_model(rf)"
   ]
  },
  {
   "cell_type": "code",
   "execution_count": null,
   "id": "7a34ab62",
   "metadata": {},
   "outputs": [],
   "source": [
    "# Plotting prediction error of RF\n",
    "plot_model(rf, plot = 'error')"
   ]
  },
  {
   "cell_type": "code",
   "execution_count": null,
   "id": "6778cac6",
   "metadata": {},
   "outputs": [],
   "source": [
    "# Plot SHAP value (impact on model output) plot by RF\n",
    "interpret_model(rf)"
   ]
  },
  {
   "cell_type": "code",
   "execution_count": null,
   "id": "644d11be",
   "metadata": {},
   "outputs": [],
   "source": [
    "svr = create_model('svm')"
   ]
  },
  {
   "cell_type": "code",
   "execution_count": null,
   "id": "75542fd2",
   "metadata": {},
   "outputs": [],
   "source": [
    "# Plotting prediction accuracy of SVR\n",
    "plot_model(svr)"
   ]
  },
  {
   "cell_type": "code",
   "execution_count": null,
   "id": "d593fcb4",
   "metadata": {},
   "outputs": [],
   "source": [
    "# Plotting prediction error of SVR\n",
    "plot_model(svr, plot = 'error')"
   ]
  },
  {
   "cell_type": "code",
   "execution_count": null,
   "id": "c965575a",
   "metadata": {},
   "outputs": [],
   "source": [
    "# Feature importance plot by GBR\n",
    "plot_model(gbr, plot = 'feature')"
   ]
  },
  {
   "cell_type": "code",
   "execution_count": null,
   "id": "51e0a53d",
   "metadata": {},
   "outputs": [],
   "source": [
    "# Feature importance plot by RF\n",
    "plot_model(rf, plot = 'feature')"
   ]
  },
  {
   "cell_type": "code",
   "execution_count": null,
   "id": "f27e0fe7",
   "metadata": {
    "scrolled": false
   },
   "outputs": [],
   "source": [
    "#evaluate_model(xgb)\n"
   ]
  },
  {
   "cell_type": "code",
   "execution_count": null,
   "id": "3fdf4618",
   "metadata": {},
   "outputs": [],
   "source": []
  }
 ],
 "metadata": {
  "kernelspec": {
   "display_name": "Python 3 (ipykernel)",
   "language": "python",
   "name": "python3"
  },
  "language_info": {
   "codemirror_mode": {
    "name": "ipython",
    "version": 3
   },
   "file_extension": ".py",
   "mimetype": "text/x-python",
   "name": "python",
   "nbconvert_exporter": "python",
   "pygments_lexer": "ipython3",
   "version": "3.9.13"
  }
 },
 "nbformat": 4,
 "nbformat_minor": 5
}
