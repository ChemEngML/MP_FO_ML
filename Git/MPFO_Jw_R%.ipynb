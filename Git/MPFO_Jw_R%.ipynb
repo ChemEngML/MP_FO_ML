{
 "cells": [
  {
   "cell_type": "code",
   "execution_count": 1,
   "id": "d7b93fdc",
   "metadata": {},
   "outputs": [
    {
     "name": "stdout",
     "output_type": "stream",
     "text": [
      "Requirement already satisfied: pycaret in c:\\users\\mj943\\anaconda3\\lib\\site-packages (3.0.0)\n",
      "Requirement already satisfied: full in c:\\users\\mj943\\anaconda3\\lib\\site-packages (0.0.3.1)\n",
      "Requirement already satisfied: tbats>=1.1.0 in c:\\users\\mj943\\anaconda3\\lib\\site-packages (from pycaret) (1.1.2)\n",
      "Requirement already satisfied: markupsafe>=2.0.1 in c:\\users\\mj943\\anaconda3\\lib\\site-packages (from pycaret) (2.0.1)\n",
      "Requirement already satisfied: importlib-metadata>=4.12.0 in c:\\users\\mj943\\anaconda3\\lib\\site-packages (from pycaret) (6.1.0)\n",
      "Requirement already satisfied: pyod>=1.0.8 in c:\\users\\mj943\\anaconda3\\lib\\site-packages (from pycaret) (1.0.9)\n",
      "Requirement already satisfied: ipywidgets>=7.6.5 in c:\\users\\mj943\\anaconda3\\lib\\site-packages (from pycaret) (7.6.5)\n",
      "Requirement already satisfied: lightgbm>=3.0.0 in c:\\users\\mj943\\anaconda3\\lib\\site-packages (from pycaret) (3.3.5)\n",
      "Requirement already satisfied: category-encoders>=2.4.0 in c:\\users\\mj943\\anaconda3\\lib\\site-packages (from pycaret) (2.6.0)\n",
      "Requirement already satisfied: yellowbrick>=1.4 in c:\\users\\mj943\\anaconda3\\lib\\site-packages (from pycaret) (1.5)\n",
      "Requirement already satisfied: xxhash in c:\\users\\mj943\\anaconda3\\lib\\site-packages (from pycaret) (3.2.0)\n",
      "Requirement already satisfied: kaleido>=0.2.1 in c:\\users\\mj943\\anaconda3\\lib\\site-packages (from pycaret) (0.2.1)\n",
      "Requirement already satisfied: pmdarima!=1.8.1,<3.0.0,>=1.8.0 in c:\\users\\mj943\\anaconda3\\lib\\site-packages (from pycaret) (2.0.3)\n",
      "Requirement already satisfied: statsmodels>=0.12.1 in c:\\users\\mj943\\anaconda3\\lib\\site-packages (from pycaret) (0.13.2)\n",
      "Requirement already satisfied: jinja2>=1.2 in c:\\users\\mj943\\anaconda3\\lib\\site-packages (from pycaret) (2.11.3)\n",
      "Requirement already satisfied: cloudpickle in c:\\users\\mj943\\anaconda3\\lib\\site-packages (from pycaret) (2.0.0)\n",
      "Requirement already satisfied: plotly-resampler>=0.8.3.1 in c:\\users\\mj943\\anaconda3\\lib\\site-packages (from pycaret) (0.8.3.2)\n",
      "Requirement already satisfied: scikit-learn>=1.0 in c:\\users\\mj943\\anaconda3\\lib\\site-packages (from pycaret) (1.0.2)\n",
      "Requirement already satisfied: psutil>=5.9.0 in c:\\users\\mj943\\anaconda3\\lib\\site-packages (from pycaret) (5.9.0)\n",
      "Requirement already satisfied: deprecation>=2.1.0 in c:\\users\\mj943\\anaconda3\\lib\\site-packages (from pycaret) (2.1.0)\n",
      "Requirement already satisfied: imbalanced-learn>=0.8.1 in c:\\users\\mj943\\anaconda3\\lib\\site-packages (from pycaret) (0.10.1)\n",
      "Requirement already satisfied: nbformat>=4.2.0 in c:\\users\\mj943\\anaconda3\\lib\\site-packages (from pycaret) (5.5.0)\n",
      "Requirement already satisfied: numba>=0.55.0 in c:\\users\\mj943\\anaconda3\\lib\\site-packages (from pycaret) (0.55.1)\n",
      "Requirement already satisfied: requests>=2.27.1 in c:\\users\\mj943\\anaconda3\\lib\\site-packages (from pycaret) (2.28.1)\n",
      "Requirement already satisfied: sktime>=0.16.1 in c:\\users\\mj943\\anaconda3\\lib\\site-packages (from pycaret) (0.17.0)\n",
      "Requirement already satisfied: scikit-plot>=0.3.7 in c:\\users\\mj943\\anaconda3\\lib\\site-packages (from pycaret) (0.3.7)\n",
      "Requirement already satisfied: ipython>=5.5.0 in c:\\users\\mj943\\anaconda3\\lib\\site-packages (from pycaret) (7.31.1)\n",
      "Requirement already satisfied: matplotlib>=3.3.0 in c:\\users\\mj943\\anaconda3\\lib\\site-packages (from pycaret) (3.5.2)\n",
      "Requirement already satisfied: schemdraw>=0.14 in c:\\users\\mj943\\anaconda3\\lib\\site-packages (from pycaret) (0.16)\n",
      "Requirement already satisfied: joblib>=1.2.0 in c:\\users\\mj943\\anaconda3\\lib\\site-packages (from pycaret) (1.2.0)\n",
      "Requirement already satisfied: pandas<1.6.0,>=1.3.0 in c:\\users\\mj943\\anaconda3\\lib\\site-packages (from pycaret) (1.4.4)\n",
      "Requirement already satisfied: plotly>=5.0.0 in c:\\users\\mj943\\anaconda3\\lib\\site-packages (from pycaret) (5.9.0)\n",
      "Requirement already satisfied: tqdm>=4.62.0 in c:\\users\\mj943\\anaconda3\\lib\\site-packages (from pycaret) (4.64.1)\n",
      "Requirement already satisfied: scipy<2.0.0 in c:\\users\\mj943\\anaconda3\\lib\\site-packages (from pycaret) (1.9.1)\n",
      "Requirement already satisfied: numpy<1.25,>=1.21 in c:\\users\\mj943\\anaconda3\\lib\\site-packages (from pycaret) (1.21.5)\n",
      "Requirement already satisfied: torch in c:\\users\\mj943\\anaconda3\\lib\\site-packages (from full) (2.0.0)\n",
      "Requirement already satisfied: transformers in c:\\users\\mj943\\anaconda3\\lib\\site-packages (from full) (4.27.4)\n",
      "Requirement already satisfied: patsy>=0.5.1 in c:\\users\\mj943\\anaconda3\\lib\\site-packages (from category-encoders>=2.4.0->pycaret) (0.5.2)\n",
      "Requirement already satisfied: packaging in c:\\users\\mj943\\anaconda3\\lib\\site-packages (from deprecation>=2.1.0->pycaret) (21.3)\n",
      "Requirement already satisfied: threadpoolctl>=2.0.0 in c:\\users\\mj943\\anaconda3\\lib\\site-packages (from imbalanced-learn>=0.8.1->pycaret) (2.2.0)\n",
      "Requirement already satisfied: zipp>=0.5 in c:\\users\\mj943\\anaconda3\\lib\\site-packages (from importlib-metadata>=4.12.0->pycaret) (3.8.0)\n",
      "Requirement already satisfied: pygments in c:\\users\\mj943\\anaconda3\\lib\\site-packages (from ipython>=5.5.0->pycaret) (2.11.2)\n",
      "Requirement already satisfied: jedi>=0.16 in c:\\users\\mj943\\anaconda3\\lib\\site-packages (from ipython>=5.5.0->pycaret) (0.18.1)\n",
      "Requirement already satisfied: decorator in c:\\users\\mj943\\anaconda3\\lib\\site-packages (from ipython>=5.5.0->pycaret) (5.1.1)\n",
      "Requirement already satisfied: traitlets>=4.2 in c:\\users\\mj943\\anaconda3\\lib\\site-packages (from ipython>=5.5.0->pycaret) (5.1.1)\n",
      "Requirement already satisfied: pickleshare in c:\\users\\mj943\\anaconda3\\lib\\site-packages (from ipython>=5.5.0->pycaret) (0.7.5)\n",
      "Requirement already satisfied: backcall in c:\\users\\mj943\\anaconda3\\lib\\site-packages (from ipython>=5.5.0->pycaret) (0.2.0)\n",
      "Requirement already satisfied: setuptools>=18.5 in c:\\users\\mj943\\anaconda3\\lib\\site-packages (from ipython>=5.5.0->pycaret) (60.10.0)\n",
      "Requirement already satisfied: prompt-toolkit!=3.0.0,!=3.0.1,<3.1.0,>=2.0.0 in c:\\users\\mj943\\anaconda3\\lib\\site-packages (from ipython>=5.5.0->pycaret) (3.0.20)\n",
      "Requirement already satisfied: matplotlib-inline in c:\\users\\mj943\\anaconda3\\lib\\site-packages (from ipython>=5.5.0->pycaret) (0.1.6)\n",
      "Requirement already satisfied: colorama in c:\\users\\mj943\\anaconda3\\lib\\site-packages (from ipython>=5.5.0->pycaret) (0.4.5)\n",
      "Requirement already satisfied: ipython-genutils~=0.2.0 in c:\\users\\mj943\\anaconda3\\lib\\site-packages (from ipywidgets>=7.6.5->pycaret) (0.2.0)\n",
      "Requirement already satisfied: widgetsnbextension~=3.5.0 in c:\\users\\mj943\\anaconda3\\lib\\site-packages (from ipywidgets>=7.6.5->pycaret) (3.5.2)\n",
      "Requirement already satisfied: ipykernel>=4.5.1 in c:\\users\\mj943\\anaconda3\\lib\\site-packages (from ipywidgets>=7.6.5->pycaret) (6.15.2)\n",
      "Requirement already satisfied: jupyterlab-widgets>=1.0.0 in c:\\users\\mj943\\anaconda3\\lib\\site-packages (from ipywidgets>=7.6.5->pycaret) (1.0.0)\n",
      "Requirement already satisfied: wheel in c:\\users\\mj943\\anaconda3\\lib\\site-packages (from lightgbm>=3.0.0->pycaret) (0.37.1)\n",
      "Requirement already satisfied: python-dateutil>=2.7 in c:\\users\\mj943\\anaconda3\\lib\\site-packages (from matplotlib>=3.3.0->pycaret) (2.8.2)\n",
      "Requirement already satisfied: fonttools>=4.22.0 in c:\\users\\mj943\\anaconda3\\lib\\site-packages (from matplotlib>=3.3.0->pycaret) (4.25.0)\n",
      "Requirement already satisfied: pillow>=6.2.0 in c:\\users\\mj943\\anaconda3\\lib\\site-packages (from matplotlib>=3.3.0->pycaret) (9.2.0)\n",
      "Requirement already satisfied: kiwisolver>=1.0.1 in c:\\users\\mj943\\anaconda3\\lib\\site-packages (from matplotlib>=3.3.0->pycaret) (1.4.2)\n",
      "Requirement already satisfied: cycler>=0.10 in c:\\users\\mj943\\anaconda3\\lib\\site-packages (from matplotlib>=3.3.0->pycaret) (0.11.0)\n",
      "Requirement already satisfied: pyparsing>=2.2.1 in c:\\users\\mj943\\anaconda3\\lib\\site-packages (from matplotlib>=3.3.0->pycaret) (3.0.9)\n",
      "Requirement already satisfied: fastjsonschema in c:\\users\\mj943\\anaconda3\\lib\\site-packages (from nbformat>=4.2.0->pycaret) (2.16.2)\n",
      "Requirement already satisfied: jupyter_core in c:\\users\\mj943\\anaconda3\\lib\\site-packages (from nbformat>=4.2.0->pycaret) (4.11.1)\n",
      "Requirement already satisfied: jsonschema>=2.6 in c:\\users\\mj943\\anaconda3\\lib\\site-packages (from nbformat>=4.2.0->pycaret) (4.16.0)\n",
      "Requirement already satisfied: llvmlite<0.39,>=0.38.0rc1 in c:\\users\\mj943\\anaconda3\\lib\\site-packages (from numba>=0.55.0->pycaret) (0.38.0)\n",
      "Requirement already satisfied: pytz>=2020.1 in c:\\users\\mj943\\anaconda3\\lib\\site-packages (from pandas<1.6.0,>=1.3.0->pycaret) (2022.1)\n",
      "Requirement already satisfied: tenacity>=6.2.0 in c:\\users\\mj943\\anaconda3\\lib\\site-packages (from plotly>=5.0.0->pycaret) (8.0.1)\n",
      "Requirement already satisfied: orjson<4.0.0,>=3.8.0 in c:\\users\\mj943\\anaconda3\\lib\\site-packages (from plotly-resampler>=0.8.3.1->pycaret) (3.8.9)\n",
      "Requirement already satisfied: jupyter-dash>=0.4.2 in c:\\users\\mj943\\anaconda3\\lib\\site-packages (from plotly-resampler>=0.8.3.1->pycaret) (0.4.2)\n",
      "Requirement already satisfied: trace-updater>=0.0.8 in c:\\users\\mj943\\anaconda3\\lib\\site-packages (from plotly-resampler>=0.8.3.1->pycaret) (0.0.9)\n",
      "Requirement already satisfied: dash<3.0.0,>=2.2.0 in c:\\users\\mj943\\anaconda3\\lib\\site-packages (from plotly-resampler>=0.8.3.1->pycaret) (2.9.2)\n",
      "Requirement already satisfied: Cython!=0.29.18,!=0.29.31,>=0.29 in c:\\users\\mj943\\anaconda3\\lib\\site-packages (from pmdarima!=1.8.1,<3.0.0,>=1.8.0->pycaret) (0.29.32)\n",
      "Requirement already satisfied: urllib3 in c:\\users\\mj943\\anaconda3\\lib\\site-packages (from pmdarima!=1.8.1,<3.0.0,>=1.8.0->pycaret) (1.26.11)\n",
      "Requirement already satisfied: six in c:\\users\\mj943\\anaconda3\\lib\\site-packages (from pyod>=1.0.8->pycaret) (1.16.0)\n",
      "Requirement already satisfied: certifi>=2017.4.17 in c:\\users\\mj943\\anaconda3\\lib\\site-packages (from requests>=2.27.1->pycaret) (2022.9.14)\n",
      "Requirement already satisfied: idna<4,>=2.5 in c:\\users\\mj943\\anaconda3\\lib\\site-packages (from requests>=2.27.1->pycaret) (3.3)\n",
      "Requirement already satisfied: charset-normalizer<3,>=2 in c:\\users\\mj943\\anaconda3\\lib\\site-packages (from requests>=2.27.1->pycaret) (2.0.4)\n",
      "Requirement already satisfied: deprecated>=1.2.13 in c:\\users\\mj943\\anaconda3\\lib\\site-packages (from sktime>=0.16.1->pycaret) (1.2.13)\n",
      "Requirement already satisfied: networkx in c:\\users\\mj943\\anaconda3\\lib\\site-packages (from torch->full) (2.8.4)\n",
      "Requirement already satisfied: filelock in c:\\users\\mj943\\anaconda3\\lib\\site-packages (from torch->full) (3.6.0)\n",
      "Requirement already satisfied: typing-extensions in c:\\users\\mj943\\anaconda3\\lib\\site-packages (from torch->full) (4.3.0)\n",
      "Requirement already satisfied: sympy in c:\\users\\mj943\\anaconda3\\lib\\site-packages (from torch->full) (1.10.1)\n",
      "Requirement already satisfied: pyyaml>=5.1 in c:\\users\\mj943\\anaconda3\\lib\\site-packages (from transformers->full) (6.0)\n",
      "Requirement already satisfied: regex!=2019.12.17 in c:\\users\\mj943\\anaconda3\\lib\\site-packages (from transformers->full) (2022.7.9)\n",
      "Requirement already satisfied: huggingface-hub<1.0,>=0.11.0 in c:\\users\\mj943\\anaconda3\\lib\\site-packages (from transformers->full) (0.13.3)\n",
      "Requirement already satisfied: tokenizers!=0.11.3,<0.14,>=0.11.1 in c:\\users\\mj943\\anaconda3\\lib\\site-packages (from transformers->full) (0.13.3)\n",
      "Requirement already satisfied: dash-html-components==2.0.0 in c:\\users\\mj943\\anaconda3\\lib\\site-packages (from dash<3.0.0,>=2.2.0->plotly-resampler>=0.8.3.1->pycaret) (2.0.0)\n",
      "Requirement already satisfied: Flask>=1.0.4 in c:\\users\\mj943\\anaconda3\\lib\\site-packages (from dash<3.0.0,>=2.2.0->plotly-resampler>=0.8.3.1->pycaret) (1.1.2)\n",
      "Requirement already satisfied: dash-core-components==2.0.0 in c:\\users\\mj943\\anaconda3\\lib\\site-packages (from dash<3.0.0,>=2.2.0->plotly-resampler>=0.8.3.1->pycaret) (2.0.0)\n",
      "Requirement already satisfied: dash-table==5.0.0 in c:\\users\\mj943\\anaconda3\\lib\\site-packages (from dash<3.0.0,>=2.2.0->plotly-resampler>=0.8.3.1->pycaret) (5.0.0)\n",
      "Requirement already satisfied: wrapt<2,>=1.10 in c:\\users\\mj943\\anaconda3\\lib\\site-packages (from deprecated>=1.2.13->sktime>=0.16.1->pycaret) (1.14.1)\n",
      "Requirement already satisfied: nest-asyncio in c:\\users\\mj943\\anaconda3\\lib\\site-packages (from ipykernel>=4.5.1->ipywidgets>=7.6.5->pycaret) (1.5.5)\n",
      "Requirement already satisfied: debugpy>=1.0 in c:\\users\\mj943\\anaconda3\\lib\\site-packages (from ipykernel>=4.5.1->ipywidgets>=7.6.5->pycaret) (1.5.1)\n",
      "Requirement already satisfied: jupyter-client>=6.1.12 in c:\\users\\mj943\\anaconda3\\lib\\site-packages (from ipykernel>=4.5.1->ipywidgets>=7.6.5->pycaret) (7.3.4)\n",
      "Requirement already satisfied: pyzmq>=17 in c:\\users\\mj943\\anaconda3\\lib\\site-packages (from ipykernel>=4.5.1->ipywidgets>=7.6.5->pycaret) (23.2.0)\n",
      "Requirement already satisfied: tornado>=6.1 in c:\\users\\mj943\\anaconda3\\lib\\site-packages (from ipykernel>=4.5.1->ipywidgets>=7.6.5->pycaret) (6.1)\n",
      "Requirement already satisfied: parso<0.9.0,>=0.8.0 in c:\\users\\mj943\\anaconda3\\lib\\site-packages (from jedi>=0.16->ipython>=5.5.0->pycaret) (0.8.3)\n",
      "Requirement already satisfied: pyrsistent!=0.17.0,!=0.17.1,!=0.17.2,>=0.14.0 in c:\\users\\mj943\\anaconda3\\lib\\site-packages (from jsonschema>=2.6->nbformat>=4.2.0->pycaret) (0.18.0)\n",
      "Requirement already satisfied: attrs>=17.4.0 in c:\\users\\mj943\\anaconda3\\lib\\site-packages (from jsonschema>=2.6->nbformat>=4.2.0->pycaret) (21.4.0)\n",
      "Requirement already satisfied: retrying in c:\\users\\mj943\\anaconda3\\lib\\site-packages (from jupyter-dash>=0.4.2->plotly-resampler>=0.8.3.1->pycaret) (1.3.4)\n",
      "Requirement already satisfied: ansi2html in c:\\users\\mj943\\anaconda3\\lib\\site-packages (from jupyter-dash>=0.4.2->plotly-resampler>=0.8.3.1->pycaret) (1.8.0)\n",
      "Requirement already satisfied: wcwidth in c:\\users\\mj943\\anaconda3\\lib\\site-packages (from prompt-toolkit!=3.0.0,!=3.0.1,<3.1.0,>=2.0.0->ipython>=5.5.0->pycaret) (0.2.5)\n",
      "Requirement already satisfied: notebook>=4.4.1 in c:\\users\\mj943\\anaconda3\\lib\\site-packages (from widgetsnbextension~=3.5.0->ipywidgets>=7.6.5->pycaret) (6.4.12)\n",
      "Requirement already satisfied: pywin32>=1.0 in c:\\users\\mj943\\anaconda3\\lib\\site-packages (from jupyter_core->nbformat>=4.2.0->pycaret) (302)\n",
      "Requirement already satisfied: mpmath>=0.19 in c:\\users\\mj943\\anaconda3\\lib\\site-packages (from sympy->torch->full) (1.2.1)\n",
      "Requirement already satisfied: click>=5.1 in c:\\users\\mj943\\anaconda3\\lib\\site-packages (from Flask>=1.0.4->dash<3.0.0,>=2.2.0->plotly-resampler>=0.8.3.1->pycaret) (8.0.4)\n",
      "Requirement already satisfied: Werkzeug>=0.15 in c:\\users\\mj943\\anaconda3\\lib\\site-packages (from Flask>=1.0.4->dash<3.0.0,>=2.2.0->plotly-resampler>=0.8.3.1->pycaret) (2.0.3)\n",
      "Requirement already satisfied: itsdangerous>=0.24 in c:\\users\\mj943\\anaconda3\\lib\\site-packages (from Flask>=1.0.4->dash<3.0.0,>=2.2.0->plotly-resampler>=0.8.3.1->pycaret) (2.0.1)\n",
      "Requirement already satisfied: entrypoints in c:\\users\\mj943\\anaconda3\\lib\\site-packages (from jupyter-client>=6.1.12->ipykernel>=4.5.1->ipywidgets>=7.6.5->pycaret) (0.4)\n",
      "Requirement already satisfied: nbconvert>=5 in c:\\users\\mj943\\anaconda3\\lib\\site-packages (from notebook>=4.4.1->widgetsnbextension~=3.5.0->ipywidgets>=7.6.5->pycaret) (6.4.4)\n",
      "Requirement already satisfied: argon2-cffi in c:\\users\\mj943\\anaconda3\\lib\\site-packages (from notebook>=4.4.1->widgetsnbextension~=3.5.0->ipywidgets>=7.6.5->pycaret) (21.3.0)\n",
      "Requirement already satisfied: Send2Trash>=1.8.0 in c:\\users\\mj943\\anaconda3\\lib\\site-packages (from notebook>=4.4.1->widgetsnbextension~=3.5.0->ipywidgets>=7.6.5->pycaret) (1.8.0)\n",
      "Requirement already satisfied: prometheus-client in c:\\users\\mj943\\anaconda3\\lib\\site-packages (from notebook>=4.4.1->widgetsnbextension~=3.5.0->ipywidgets>=7.6.5->pycaret) (0.14.1)\n",
      "Requirement already satisfied: terminado>=0.8.3 in c:\\users\\mj943\\anaconda3\\lib\\site-packages (from notebook>=4.4.1->widgetsnbextension~=3.5.0->ipywidgets>=7.6.5->pycaret) (0.13.1)\n",
      "Requirement already satisfied: beautifulsoup4 in c:\\users\\mj943\\anaconda3\\lib\\site-packages (from nbconvert>=5->notebook>=4.4.1->widgetsnbextension~=3.5.0->ipywidgets>=7.6.5->pycaret) (4.11.1)\n",
      "Requirement already satisfied: testpath in c:\\users\\mj943\\anaconda3\\lib\\site-packages (from nbconvert>=5->notebook>=4.4.1->widgetsnbextension~=3.5.0->ipywidgets>=7.6.5->pycaret) (0.6.0)\n",
      "Requirement already satisfied: pandocfilters>=1.4.1 in c:\\users\\mj943\\anaconda3\\lib\\site-packages (from nbconvert>=5->notebook>=4.4.1->widgetsnbextension~=3.5.0->ipywidgets>=7.6.5->pycaret) (1.5.0)\n",
      "Requirement already satisfied: bleach in c:\\users\\mj943\\anaconda3\\lib\\site-packages (from nbconvert>=5->notebook>=4.4.1->widgetsnbextension~=3.5.0->ipywidgets>=7.6.5->pycaret) (4.1.0)\n",
      "Requirement already satisfied: nbclient<0.6.0,>=0.5.0 in c:\\users\\mj943\\anaconda3\\lib\\site-packages (from nbconvert>=5->notebook>=4.4.1->widgetsnbextension~=3.5.0->ipywidgets>=7.6.5->pycaret) (0.5.13)\n",
      "Requirement already satisfied: jupyterlab-pygments in c:\\users\\mj943\\anaconda3\\lib\\site-packages (from nbconvert>=5->notebook>=4.4.1->widgetsnbextension~=3.5.0->ipywidgets>=7.6.5->pycaret) (0.1.2)\n",
      "Requirement already satisfied: mistune<2,>=0.8.1 in c:\\users\\mj943\\anaconda3\\lib\\site-packages (from nbconvert>=5->notebook>=4.4.1->widgetsnbextension~=3.5.0->ipywidgets>=7.6.5->pycaret) (0.8.4)\n",
      "Requirement already satisfied: defusedxml in c:\\users\\mj943\\anaconda3\\lib\\site-packages (from nbconvert>=5->notebook>=4.4.1->widgetsnbextension~=3.5.0->ipywidgets>=7.6.5->pycaret) (0.7.1)\n",
      "Requirement already satisfied: pywinpty>=1.1.0 in c:\\users\\mj943\\anaconda3\\lib\\site-packages (from terminado>=0.8.3->notebook>=4.4.1->widgetsnbextension~=3.5.0->ipywidgets>=7.6.5->pycaret) (2.0.2)\n",
      "Requirement already satisfied: argon2-cffi-bindings in c:\\users\\mj943\\anaconda3\\lib\\site-packages (from argon2-cffi->notebook>=4.4.1->widgetsnbextension~=3.5.0->ipywidgets>=7.6.5->pycaret) (21.2.0)\n",
      "Requirement already satisfied: cffi>=1.0.1 in c:\\users\\mj943\\anaconda3\\lib\\site-packages (from argon2-cffi-bindings->argon2-cffi->notebook>=4.4.1->widgetsnbextension~=3.5.0->ipywidgets>=7.6.5->pycaret) (1.15.1)\n",
      "Requirement already satisfied: soupsieve>1.2 in c:\\users\\mj943\\anaconda3\\lib\\site-packages (from beautifulsoup4->nbconvert>=5->notebook>=4.4.1->widgetsnbextension~=3.5.0->ipywidgets>=7.6.5->pycaret) (2.3.1)\n",
      "Requirement already satisfied: webencodings in c:\\users\\mj943\\anaconda3\\lib\\site-packages (from bleach->nbconvert>=5->notebook>=4.4.1->widgetsnbextension~=3.5.0->ipywidgets>=7.6.5->pycaret) (0.5.1)\n",
      "Requirement already satisfied: pycparser in c:\\users\\mj943\\anaconda3\\lib\\site-packages (from cffi>=1.0.1->argon2-cffi-bindings->argon2-cffi->notebook>=4.4.1->widgetsnbextension~=3.5.0->ipywidgets>=7.6.5->pycaret) (2.21)\n"
     ]
    },
    {
     "name": "stdout",
     "output_type": "stream",
     "text": [
      "Requirement already satisfied: pandas in c:\\users\\mj943\\anaconda3\\lib\\site-packages (1.4.4)\n",
      "Requirement already satisfied: python-dateutil>=2.8.1 in c:\\users\\mj943\\anaconda3\\lib\\site-packages (from pandas) (2.8.2)\n",
      "Requirement already satisfied: numpy>=1.18.5 in c:\\users\\mj943\\anaconda3\\lib\\site-packages (from pandas) (1.21.5)\n",
      "Requirement already satisfied: pytz>=2020.1 in c:\\users\\mj943\\anaconda3\\lib\\site-packages (from pandas) (2022.1)\n",
      "Requirement already satisfied: six>=1.5 in c:\\users\\mj943\\anaconda3\\lib\\site-packages (from python-dateutil>=2.8.1->pandas) (1.16.0)\n"
     ]
    }
   ],
   "source": [
    "# Import necessary libraries\n",
    "\n",
    "! pip install pycaret full \n",
    "import pycaret\n",
    "! pip install pandas\n",
    "from pycaret.regression import *\n",
    "from pycaret.classification import *\n",
    "import pandas as pd\n",
    "import matplotlib.pyplot as plt\n",
    "import seaborn as sns"
   ]
  },
  {
   "cell_type": "code",
   "execution_count": 2,
   "id": "d69bb598",
   "metadata": {},
   "outputs": [
    {
     "data": {
      "text/html": [
       "<div>\n",
       "<style scoped>\n",
       "    .dataframe tbody tr th:only-of-type {\n",
       "        vertical-align: middle;\n",
       "    }\n",
       "\n",
       "    .dataframe tbody tr th {\n",
       "        vertical-align: top;\n",
       "    }\n",
       "\n",
       "    .dataframe thead th {\n",
       "        text-align: right;\n",
       "    }\n",
       "</style>\n",
       "<table border=\"1\" class=\"dataframe\">\n",
       "  <thead>\n",
       "    <tr style=\"text-align: right;\">\n",
       "      <th></th>\n",
       "      <th>Micro Pollutant</th>\n",
       "      <th>MP Category</th>\n",
       "      <th>Initial Concentration of MP (mg/L)</th>\n",
       "      <th>Compound MW (g/mol)</th>\n",
       "      <th>Compound Charge</th>\n",
       "      <th>Initial FS pH</th>\n",
       "      <th>Initial DS pH</th>\n",
       "      <th>Type of MB</th>\n",
       "      <th>MB Contact Angle (°)</th>\n",
       "      <th>MB Zeta Potential (mV)</th>\n",
       "      <th>Draw Solution</th>\n",
       "      <th>DS MW (g mol-1)</th>\n",
       "      <th>DS Concentration (M)</th>\n",
       "      <th>Operating Time (h)</th>\n",
       "      <th>Cross Flow Velocity (cm/s)</th>\n",
       "      <th>Water Flux, Jw (LMH)</th>\n",
       "      <th>Reverse Salt Flux, Js (gMH)</th>\n",
       "      <th>Temperature (⁰C)</th>\n",
       "      <th>Removal Rate (%)</th>\n",
       "    </tr>\n",
       "  </thead>\n",
       "  <tbody>\n",
       "    <tr>\n",
       "      <th>0</th>\n",
       "      <td>Atenolol</td>\n",
       "      <td>β-Blockers</td>\n",
       "      <td>0.01000</td>\n",
       "      <td>266.34</td>\n",
       "      <td>1</td>\n",
       "      <td>7.05</td>\n",
       "      <td>NaN</td>\n",
       "      <td>HTI CTA FO</td>\n",
       "      <td>79.5</td>\n",
       "      <td>-6.87</td>\n",
       "      <td>Monoammonium phosphate (MAP)</td>\n",
       "      <td>115.00</td>\n",
       "      <td>1.0</td>\n",
       "      <td>10.0</td>\n",
       "      <td>8.5</td>\n",
       "      <td>7.7</td>\n",
       "      <td>0.08</td>\n",
       "      <td>20.0</td>\n",
       "      <td>80</td>\n",
       "    </tr>\n",
       "    <tr>\n",
       "      <th>1</th>\n",
       "      <td>Atrazine</td>\n",
       "      <td>Herbicide</td>\n",
       "      <td>0.01000</td>\n",
       "      <td>216.00</td>\n",
       "      <td>0</td>\n",
       "      <td>7.05</td>\n",
       "      <td>NaN</td>\n",
       "      <td>HTI CTA FO</td>\n",
       "      <td>79.5</td>\n",
       "      <td>-6.87</td>\n",
       "      <td>Monoammonium phosphate (MAP)</td>\n",
       "      <td>115.00</td>\n",
       "      <td>1.0</td>\n",
       "      <td>10.0</td>\n",
       "      <td>8.5</td>\n",
       "      <td>7.7</td>\n",
       "      <td>0.08</td>\n",
       "      <td>20.0</td>\n",
       "      <td>77</td>\n",
       "    </tr>\n",
       "    <tr>\n",
       "      <th>2</th>\n",
       "      <td>Primidone</td>\n",
       "      <td>Anticonvulsant</td>\n",
       "      <td>0.01000</td>\n",
       "      <td>218.00</td>\n",
       "      <td>0</td>\n",
       "      <td>7.05</td>\n",
       "      <td>NaN</td>\n",
       "      <td>HTI CTA FO</td>\n",
       "      <td>79.5</td>\n",
       "      <td>-6.87</td>\n",
       "      <td>Monoammonium phosphate (MAP)</td>\n",
       "      <td>115.00</td>\n",
       "      <td>1.0</td>\n",
       "      <td>10.0</td>\n",
       "      <td>8.5</td>\n",
       "      <td>7.7</td>\n",
       "      <td>0.08</td>\n",
       "      <td>20.0</td>\n",
       "      <td>90</td>\n",
       "    </tr>\n",
       "    <tr>\n",
       "      <th>3</th>\n",
       "      <td>Caffeine</td>\n",
       "      <td>Stimulant</td>\n",
       "      <td>0.01000</td>\n",
       "      <td>194.00</td>\n",
       "      <td>0</td>\n",
       "      <td>7.05</td>\n",
       "      <td>NaN</td>\n",
       "      <td>HTI CTA FO</td>\n",
       "      <td>79.5</td>\n",
       "      <td>-6.87</td>\n",
       "      <td>Monoammonium phosphate (MAP)</td>\n",
       "      <td>115.00</td>\n",
       "      <td>1.0</td>\n",
       "      <td>10.0</td>\n",
       "      <td>8.5</td>\n",
       "      <td>7.7</td>\n",
       "      <td>0.08</td>\n",
       "      <td>20.0</td>\n",
       "      <td>81</td>\n",
       "    </tr>\n",
       "    <tr>\n",
       "      <th>4</th>\n",
       "      <td>Atenolol</td>\n",
       "      <td>β-Blockers</td>\n",
       "      <td>0.01000</td>\n",
       "      <td>266.34</td>\n",
       "      <td>1</td>\n",
       "      <td>7.05</td>\n",
       "      <td>NaN</td>\n",
       "      <td>HTI CTA FO</td>\n",
       "      <td>79.5</td>\n",
       "      <td>-6.87</td>\n",
       "      <td>Monoammonium phosphate (MAP)</td>\n",
       "      <td>115.00</td>\n",
       "      <td>2.0</td>\n",
       "      <td>10.0</td>\n",
       "      <td>8.5</td>\n",
       "      <td>9.5</td>\n",
       "      <td>0.08</td>\n",
       "      <td>20.0</td>\n",
       "      <td>80</td>\n",
       "    </tr>\n",
       "    <tr>\n",
       "      <th>...</th>\n",
       "      <td>...</td>\n",
       "      <td>...</td>\n",
       "      <td>...</td>\n",
       "      <td>...</td>\n",
       "      <td>...</td>\n",
       "      <td>...</td>\n",
       "      <td>...</td>\n",
       "      <td>...</td>\n",
       "      <td>...</td>\n",
       "      <td>...</td>\n",
       "      <td>...</td>\n",
       "      <td>...</td>\n",
       "      <td>...</td>\n",
       "      <td>...</td>\n",
       "      <td>...</td>\n",
       "      <td>...</td>\n",
       "      <td>...</td>\n",
       "      <td>...</td>\n",
       "      <td>...</td>\n",
       "    </tr>\n",
       "    <tr>\n",
       "      <th>229</th>\n",
       "      <td>Sulfamethoxazole</td>\n",
       "      <td>Antibiotics</td>\n",
       "      <td>0.01220</td>\n",
       "      <td>253.28</td>\n",
       "      <td>-1</td>\n",
       "      <td>7.00</td>\n",
       "      <td>NaN</td>\n",
       "      <td>Aquaporin FO</td>\n",
       "      <td>26.4</td>\n",
       "      <td>NaN</td>\n",
       "      <td>NaCl</td>\n",
       "      <td>58.44</td>\n",
       "      <td>0.7</td>\n",
       "      <td>2.5</td>\n",
       "      <td>17.5</td>\n",
       "      <td>10.0</td>\n",
       "      <td>2.00</td>\n",
       "      <td>20.0</td>\n",
       "      <td>100</td>\n",
       "    </tr>\n",
       "    <tr>\n",
       "      <th>230</th>\n",
       "      <td>Trimethoprim</td>\n",
       "      <td>Antibiotics</td>\n",
       "      <td>0.01070</td>\n",
       "      <td>290.32</td>\n",
       "      <td>1</td>\n",
       "      <td>7.00</td>\n",
       "      <td>NaN</td>\n",
       "      <td>Aquaporin FO</td>\n",
       "      <td>26.4</td>\n",
       "      <td>NaN</td>\n",
       "      <td>NaCl</td>\n",
       "      <td>58.44</td>\n",
       "      <td>0.7</td>\n",
       "      <td>2.5</td>\n",
       "      <td>17.5</td>\n",
       "      <td>10.0</td>\n",
       "      <td>2.00</td>\n",
       "      <td>20.0</td>\n",
       "      <td>99</td>\n",
       "    </tr>\n",
       "    <tr>\n",
       "      <th>231</th>\n",
       "      <td>Carbamazepine</td>\n",
       "      <td>Anticonvulsant</td>\n",
       "      <td>0.01370</td>\n",
       "      <td>236.27</td>\n",
       "      <td>0</td>\n",
       "      <td>7.00</td>\n",
       "      <td>NaN</td>\n",
       "      <td>Aquaporin FO</td>\n",
       "      <td>26.4</td>\n",
       "      <td>NaN</td>\n",
       "      <td>NaCl</td>\n",
       "      <td>58.44</td>\n",
       "      <td>0.7</td>\n",
       "      <td>2.5</td>\n",
       "      <td>17.5</td>\n",
       "      <td>10.0</td>\n",
       "      <td>2.00</td>\n",
       "      <td>20.0</td>\n",
       "      <td>100</td>\n",
       "    </tr>\n",
       "    <tr>\n",
       "      <th>232</th>\n",
       "      <td>Ibuprofen</td>\n",
       "      <td>Nonsteroidal anti-inflammatory</td>\n",
       "      <td>0.01220</td>\n",
       "      <td>206.29</td>\n",
       "      <td>-1</td>\n",
       "      <td>7.00</td>\n",
       "      <td>NaN</td>\n",
       "      <td>Aquaporin FO</td>\n",
       "      <td>26.4</td>\n",
       "      <td>NaN</td>\n",
       "      <td>NaCl</td>\n",
       "      <td>58.44</td>\n",
       "      <td>0.7</td>\n",
       "      <td>2.5</td>\n",
       "      <td>17.5</td>\n",
       "      <td>10.0</td>\n",
       "      <td>2.00</td>\n",
       "      <td>20.0</td>\n",
       "      <td>100</td>\n",
       "    </tr>\n",
       "    <tr>\n",
       "      <th>233</th>\n",
       "      <td>Diclofenac</td>\n",
       "      <td>Nonsteroidal anti-inflammatory</td>\n",
       "      <td>0.00966</td>\n",
       "      <td>296.15</td>\n",
       "      <td>-1</td>\n",
       "      <td>7.00</td>\n",
       "      <td>NaN</td>\n",
       "      <td>Aquaporin FO</td>\n",
       "      <td>26.4</td>\n",
       "      <td>NaN</td>\n",
       "      <td>NaCl</td>\n",
       "      <td>58.44</td>\n",
       "      <td>0.7</td>\n",
       "      <td>2.5</td>\n",
       "      <td>17.5</td>\n",
       "      <td>10.0</td>\n",
       "      <td>2.00</td>\n",
       "      <td>20.0</td>\n",
       "      <td>99</td>\n",
       "    </tr>\n",
       "  </tbody>\n",
       "</table>\n",
       "<p>234 rows × 19 columns</p>\n",
       "</div>"
      ],
      "text/plain": [
       "      Micro Pollutant                     MP Category  \\\n",
       "0            Atenolol                      β-Blockers   \n",
       "1           Atrazine                        Herbicide   \n",
       "2           Primidone                  Anticonvulsant   \n",
       "3            Caffeine                       Stimulant   \n",
       "4            Atenolol                      β-Blockers   \n",
       "..                ...                             ...   \n",
       "229  Sulfamethoxazole                     Antibiotics   \n",
       "230      Trimethoprim                     Antibiotics   \n",
       "231     Carbamazepine                  Anticonvulsant   \n",
       "232         Ibuprofen  Nonsteroidal anti-inflammatory   \n",
       "233        Diclofenac  Nonsteroidal anti-inflammatory   \n",
       "\n",
       "     Initial Concentration of MP (mg/L)  Compound MW (g/mol)  Compound Charge  \\\n",
       "0                               0.01000               266.34                1   \n",
       "1                               0.01000               216.00                0   \n",
       "2                               0.01000               218.00                0   \n",
       "3                               0.01000               194.00                0   \n",
       "4                               0.01000               266.34                1   \n",
       "..                                  ...                  ...              ...   \n",
       "229                             0.01220               253.28               -1   \n",
       "230                             0.01070               290.32                1   \n",
       "231                             0.01370               236.27                0   \n",
       "232                             0.01220               206.29               -1   \n",
       "233                             0.00966               296.15               -1   \n",
       "\n",
       "     Initial FS pH  Initial DS pH    Type of MB  MB Contact Angle (°)  \\\n",
       "0             7.05            NaN   HTI CTA FO                   79.5   \n",
       "1             7.05            NaN   HTI CTA FO                   79.5   \n",
       "2             7.05            NaN   HTI CTA FO                   79.5   \n",
       "3             7.05            NaN   HTI CTA FO                   79.5   \n",
       "4             7.05            NaN   HTI CTA FO                   79.5   \n",
       "..             ...            ...           ...                   ...   \n",
       "229           7.00            NaN  Aquaporin FO                  26.4   \n",
       "230           7.00            NaN  Aquaporin FO                  26.4   \n",
       "231           7.00            NaN  Aquaporin FO                  26.4   \n",
       "232           7.00            NaN  Aquaporin FO                  26.4   \n",
       "233           7.00            NaN  Aquaporin FO                  26.4   \n",
       "\n",
       "     MB Zeta Potential (mV)                 Draw Solution  DS MW (g mol-1)  \\\n",
       "0                     -6.87  Monoammonium phosphate (MAP)           115.00   \n",
       "1                     -6.87  Monoammonium phosphate (MAP)           115.00   \n",
       "2                     -6.87  Monoammonium phosphate (MAP)           115.00   \n",
       "3                     -6.87  Monoammonium phosphate (MAP)           115.00   \n",
       "4                     -6.87  Monoammonium phosphate (MAP)           115.00   \n",
       "..                      ...                           ...              ...   \n",
       "229                     NaN                          NaCl            58.44   \n",
       "230                     NaN                          NaCl            58.44   \n",
       "231                     NaN                          NaCl            58.44   \n",
       "232                     NaN                          NaCl            58.44   \n",
       "233                     NaN                          NaCl            58.44   \n",
       "\n",
       "     DS Concentration (M)  Operating Time (h)  Cross Flow Velocity (cm/s)  \\\n",
       "0                     1.0                10.0                         8.5   \n",
       "1                     1.0                10.0                         8.5   \n",
       "2                     1.0                10.0                         8.5   \n",
       "3                     1.0                10.0                         8.5   \n",
       "4                     2.0                10.0                         8.5   \n",
       "..                    ...                 ...                         ...   \n",
       "229                   0.7                 2.5                        17.5   \n",
       "230                   0.7                 2.5                        17.5   \n",
       "231                   0.7                 2.5                        17.5   \n",
       "232                   0.7                 2.5                        17.5   \n",
       "233                   0.7                 2.5                        17.5   \n",
       "\n",
       "     Water Flux, Jw (LMH)  Reverse Salt Flux, Js (gMH)  Temperature (⁰C)  \\\n",
       "0                     7.7                         0.08              20.0   \n",
       "1                     7.7                         0.08              20.0   \n",
       "2                     7.7                         0.08              20.0   \n",
       "3                     7.7                         0.08              20.0   \n",
       "4                     9.5                         0.08              20.0   \n",
       "..                    ...                          ...               ...   \n",
       "229                  10.0                         2.00              20.0   \n",
       "230                  10.0                         2.00              20.0   \n",
       "231                  10.0                         2.00              20.0   \n",
       "232                  10.0                         2.00              20.0   \n",
       "233                  10.0                         2.00              20.0   \n",
       "\n",
       "     Removal Rate (%)  \n",
       "0                  80  \n",
       "1                  77  \n",
       "2                  90  \n",
       "3                  81  \n",
       "4                  80  \n",
       "..                ...  \n",
       "229               100  \n",
       "230                99  \n",
       "231               100  \n",
       "232               100  \n",
       "233                99  \n",
       "\n",
       "[234 rows x 19 columns]"
      ]
     },
     "execution_count": 2,
     "metadata": {},
     "output_type": "execute_result"
    }
   ],
   "source": [
    "# Import dataset & choosing desired parameters to analyze\n",
    "df = pd.read_csv(\"Database.csv\")\n",
    "df = df[['Micro Pollutant', 'MP Category', 'Initial Concentration of MP (mg/L)', 'Compound MW (g/mol)', 'Compound Charge', 'Initial FS pH', 'Initial DS pH','Type of MB', 'MB Contact Angle (°)', 'MB Zeta Potential (mV)', 'Draw Solution', 'DS MW (g mol-1)', 'DS Concentration (M)', 'Operating Time (h)', 'Cross Flow Velocity (cm/s)','Water Flux, Jw (LMH)','Reverse Salt Flux, Js (gMH)','Temperature (⁰C)', 'Removal Rate (%)']]\n",
    "df"
   ]
  },
  {
   "cell_type": "code",
   "execution_count": null,
   "id": "bef06290",
   "metadata": {},
   "outputs": [],
   "source": [
    "# Exploratory Data Analysis (EDA)\n",
    "# Describing main statistical features of parameters in dataset\n",
    "df.describe()"
   ]
  },
  {
   "cell_type": "code",
   "execution_count": null,
   "id": "5d11d825",
   "metadata": {},
   "outputs": [],
   "source": [
    "desc.to_csv('describe.csv')"
   ]
  },
  {
   "cell_type": "code",
   "execution_count": null,
   "id": "a4786da0",
   "metadata": {},
   "outputs": [],
   "source": [
    "df.dtypes"
   ]
  },
  {
   "cell_type": "code",
   "execution_count": null,
   "id": "58762811",
   "metadata": {},
   "outputs": [],
   "source": [
    "# EDA: Different micro pollutant categories observed \n",
    "sns.set(font_scale=1)\n",
    "ax=sns.catplot(x='MP Category' ,kind=\"count\",data=df)\n",
    "\n",
    "plt.xticks(rotation=90)\n",
    "plt.yticks(rotation=90)\n",
    "plt.figure(figsize=(25,25))\n"
   ]
  },
  {
   "cell_type": "code",
   "execution_count": null,
   "id": "96e0a675",
   "metadata": {},
   "outputs": [],
   "source": []
  },
  {
   "cell_type": "code",
   "execution_count": null,
   "id": "aa031839",
   "metadata": {},
   "outputs": [],
   "source": [
    "plt.figure(figsize=(25,25))\n",
    "sns.catplot(x='Micro Pollutant',kind=\"count\", data=df)\n",
    "ax = plt.gca()\n",
    "ax.set_xticklabels(ax.get_xticklabels(), rotation=180)\n",
    "\n"
   ]
  },
  {
   "cell_type": "code",
   "execution_count": null,
   "id": "24ad1c7f",
   "metadata": {},
   "outputs": [],
   "source": []
  },
  {
   "cell_type": "code",
   "execution_count": 4,
   "id": "110f3279",
   "metadata": {},
   "outputs": [
    {
     "data": {
      "text/html": [
       "<style type=\"text/css\">\n",
       "#T_50671_row11_col1 {\n",
       "  background-color: lightgreen;\n",
       "}\n",
       "</style>\n",
       "<table id=\"T_50671\">\n",
       "  <thead>\n",
       "    <tr>\n",
       "      <th class=\"blank level0\" >&nbsp;</th>\n",
       "      <th id=\"T_50671_level0_col0\" class=\"col_heading level0 col0\" >Description</th>\n",
       "      <th id=\"T_50671_level0_col1\" class=\"col_heading level0 col1\" >Value</th>\n",
       "    </tr>\n",
       "  </thead>\n",
       "  <tbody>\n",
       "    <tr>\n",
       "      <th id=\"T_50671_level0_row0\" class=\"row_heading level0 row0\" >0</th>\n",
       "      <td id=\"T_50671_row0_col0\" class=\"data row0 col0\" >Session id</td>\n",
       "      <td id=\"T_50671_row0_col1\" class=\"data row0 col1\" >123</td>\n",
       "    </tr>\n",
       "    <tr>\n",
       "      <th id=\"T_50671_level0_row1\" class=\"row_heading level0 row1\" >1</th>\n",
       "      <td id=\"T_50671_row1_col0\" class=\"data row1 col0\" >Target</td>\n",
       "      <td id=\"T_50671_row1_col1\" class=\"data row1 col1\" >Water Flux, Jw (LMH)</td>\n",
       "    </tr>\n",
       "    <tr>\n",
       "      <th id=\"T_50671_level0_row2\" class=\"row_heading level0 row2\" >2</th>\n",
       "      <td id=\"T_50671_row2_col0\" class=\"data row2 col0\" >Target type</td>\n",
       "      <td id=\"T_50671_row2_col1\" class=\"data row2 col1\" >Multiclass</td>\n",
       "    </tr>\n",
       "    <tr>\n",
       "      <th id=\"T_50671_level0_row3\" class=\"row_heading level0 row3\" >3</th>\n",
       "      <td id=\"T_50671_row3_col0\" class=\"data row3 col0\" >Target mapping</td>\n",
       "      <td id=\"T_50671_row3_col1\" class=\"data row3 col1\" >4.0: 0, 5.36: 1, 6.0: 2, 7.5: 3, 7.6: 4, 7.64: 5, 7.7: 6, 7.71: 7, 8.1: 8, 8.8: 9, 9.19: 10, 9.2: 11, 9.46: 12, 9.5: 13, 10.0: 14, 11.01: 15, 11.64: 16, 11.7: 17, 12.0: 18, 14.28: 19, 16.18: 20, 17.1: 21, 17.12: 22, 18.0: 23, 18.08: 24, 27.5: 25</td>\n",
       "    </tr>\n",
       "    <tr>\n",
       "      <th id=\"T_50671_level0_row4\" class=\"row_heading level0 row4\" >4</th>\n",
       "      <td id=\"T_50671_row4_col0\" class=\"data row4 col0\" >Original data shape</td>\n",
       "      <td id=\"T_50671_row4_col1\" class=\"data row4 col1\" >(234, 17)</td>\n",
       "    </tr>\n",
       "    <tr>\n",
       "      <th id=\"T_50671_level0_row5\" class=\"row_heading level0 row5\" >5</th>\n",
       "      <td id=\"T_50671_row5_col0\" class=\"data row5 col0\" >Transformed data shape</td>\n",
       "      <td id=\"T_50671_row5_col1\" class=\"data row5 col1\" >(234, 50)</td>\n",
       "    </tr>\n",
       "    <tr>\n",
       "      <th id=\"T_50671_level0_row6\" class=\"row_heading level0 row6\" >6</th>\n",
       "      <td id=\"T_50671_row6_col0\" class=\"data row6 col0\" >Transformed train set shape</td>\n",
       "      <td id=\"T_50671_row6_col1\" class=\"data row6 col1\" >(163, 50)</td>\n",
       "    </tr>\n",
       "    <tr>\n",
       "      <th id=\"T_50671_level0_row7\" class=\"row_heading level0 row7\" >7</th>\n",
       "      <td id=\"T_50671_row7_col0\" class=\"data row7 col0\" >Transformed test set shape</td>\n",
       "      <td id=\"T_50671_row7_col1\" class=\"data row7 col1\" >(71, 50)</td>\n",
       "    </tr>\n",
       "    <tr>\n",
       "      <th id=\"T_50671_level0_row8\" class=\"row_heading level0 row8\" >8</th>\n",
       "      <td id=\"T_50671_row8_col0\" class=\"data row8 col0\" >Numeric features</td>\n",
       "      <td id=\"T_50671_row8_col1\" class=\"data row8 col1\" >12</td>\n",
       "    </tr>\n",
       "    <tr>\n",
       "      <th id=\"T_50671_level0_row9\" class=\"row_heading level0 row9\" >9</th>\n",
       "      <td id=\"T_50671_row9_col0\" class=\"data row9 col0\" >Categorical features</td>\n",
       "      <td id=\"T_50671_row9_col1\" class=\"data row9 col1\" >4</td>\n",
       "    </tr>\n",
       "    <tr>\n",
       "      <th id=\"T_50671_level0_row10\" class=\"row_heading level0 row10\" >10</th>\n",
       "      <td id=\"T_50671_row10_col0\" class=\"data row10 col0\" >Rows with missing values</td>\n",
       "      <td id=\"T_50671_row10_col1\" class=\"data row10 col1\" >12.4%</td>\n",
       "    </tr>\n",
       "    <tr>\n",
       "      <th id=\"T_50671_level0_row11\" class=\"row_heading level0 row11\" >11</th>\n",
       "      <td id=\"T_50671_row11_col0\" class=\"data row11 col0\" >Preprocess</td>\n",
       "      <td id=\"T_50671_row11_col1\" class=\"data row11 col1\" >True</td>\n",
       "    </tr>\n",
       "    <tr>\n",
       "      <th id=\"T_50671_level0_row12\" class=\"row_heading level0 row12\" >12</th>\n",
       "      <td id=\"T_50671_row12_col0\" class=\"data row12 col0\" >Imputation type</td>\n",
       "      <td id=\"T_50671_row12_col1\" class=\"data row12 col1\" >simple</td>\n",
       "    </tr>\n",
       "    <tr>\n",
       "      <th id=\"T_50671_level0_row13\" class=\"row_heading level0 row13\" >13</th>\n",
       "      <td id=\"T_50671_row13_col0\" class=\"data row13 col0\" >Numeric imputation</td>\n",
       "      <td id=\"T_50671_row13_col1\" class=\"data row13 col1\" >mean</td>\n",
       "    </tr>\n",
       "    <tr>\n",
       "      <th id=\"T_50671_level0_row14\" class=\"row_heading level0 row14\" >14</th>\n",
       "      <td id=\"T_50671_row14_col0\" class=\"data row14 col0\" >Categorical imputation</td>\n",
       "      <td id=\"T_50671_row14_col1\" class=\"data row14 col1\" >mode</td>\n",
       "    </tr>\n",
       "    <tr>\n",
       "      <th id=\"T_50671_level0_row15\" class=\"row_heading level0 row15\" >15</th>\n",
       "      <td id=\"T_50671_row15_col0\" class=\"data row15 col0\" >Maximum one-hot encoding</td>\n",
       "      <td id=\"T_50671_row15_col1\" class=\"data row15 col1\" >25</td>\n",
       "    </tr>\n",
       "    <tr>\n",
       "      <th id=\"T_50671_level0_row16\" class=\"row_heading level0 row16\" >16</th>\n",
       "      <td id=\"T_50671_row16_col0\" class=\"data row16 col0\" >Encoding method</td>\n",
       "      <td id=\"T_50671_row16_col1\" class=\"data row16 col1\" >None</td>\n",
       "    </tr>\n",
       "    <tr>\n",
       "      <th id=\"T_50671_level0_row17\" class=\"row_heading level0 row17\" >17</th>\n",
       "      <td id=\"T_50671_row17_col0\" class=\"data row17 col0\" >Fold Generator</td>\n",
       "      <td id=\"T_50671_row17_col1\" class=\"data row17 col1\" >StratifiedKFold</td>\n",
       "    </tr>\n",
       "    <tr>\n",
       "      <th id=\"T_50671_level0_row18\" class=\"row_heading level0 row18\" >18</th>\n",
       "      <td id=\"T_50671_row18_col0\" class=\"data row18 col0\" >Fold Number</td>\n",
       "      <td id=\"T_50671_row18_col1\" class=\"data row18 col1\" >10</td>\n",
       "    </tr>\n",
       "    <tr>\n",
       "      <th id=\"T_50671_level0_row19\" class=\"row_heading level0 row19\" >19</th>\n",
       "      <td id=\"T_50671_row19_col0\" class=\"data row19 col0\" >CPU Jobs</td>\n",
       "      <td id=\"T_50671_row19_col1\" class=\"data row19 col1\" >-1</td>\n",
       "    </tr>\n",
       "    <tr>\n",
       "      <th id=\"T_50671_level0_row20\" class=\"row_heading level0 row20\" >20</th>\n",
       "      <td id=\"T_50671_row20_col0\" class=\"data row20 col0\" >Use GPU</td>\n",
       "      <td id=\"T_50671_row20_col1\" class=\"data row20 col1\" >False</td>\n",
       "    </tr>\n",
       "    <tr>\n",
       "      <th id=\"T_50671_level0_row21\" class=\"row_heading level0 row21\" >21</th>\n",
       "      <td id=\"T_50671_row21_col0\" class=\"data row21 col0\" >Log Experiment</td>\n",
       "      <td id=\"T_50671_row21_col1\" class=\"data row21 col1\" >False</td>\n",
       "    </tr>\n",
       "    <tr>\n",
       "      <th id=\"T_50671_level0_row22\" class=\"row_heading level0 row22\" >22</th>\n",
       "      <td id=\"T_50671_row22_col0\" class=\"data row22 col0\" >Experiment Name</td>\n",
       "      <td id=\"T_50671_row22_col1\" class=\"data row22 col1\" >clf-default-name</td>\n",
       "    </tr>\n",
       "    <tr>\n",
       "      <th id=\"T_50671_level0_row23\" class=\"row_heading level0 row23\" >23</th>\n",
       "      <td id=\"T_50671_row23_col0\" class=\"data row23 col0\" >USI</td>\n",
       "      <td id=\"T_50671_row23_col1\" class=\"data row23 col1\" >95dd</td>\n",
       "    </tr>\n",
       "  </tbody>\n",
       "</table>\n"
      ],
      "text/plain": [
       "<pandas.io.formats.style.Styler at 0x151a50606a0>"
      ]
     },
     "metadata": {},
     "output_type": "display_data"
    },
    {
     "data": {
      "text/plain": [
       "<pycaret.classification.oop.ClassificationExperiment at 0x151976a7d60>"
      ]
     },
     "execution_count": 4,
     "metadata": {},
     "output_type": "execute_result"
    }
   ],
   "source": [
    "# Setting up the model by choosing water flux (Jw) as the prediction target\n",
    "\n",
    "setup(data = df,target = 'Water Flux, Jw (LMH)',session_id = 123)"
   ]
  },
  {
   "cell_type": "code",
   "execution_count": null,
   "id": "2908376c",
   "metadata": {},
   "outputs": [],
   "source": [
    "# Plotting correlation between parameters in dataset\n",
    "\n",
    "plt.figure(figsize=(25,25))\n",
    "my_correlation = df.corr()\n",
    "sns.heatmap(my_correlation,annot=True, cmap='coolwarm',annot_kws={\"size\": 16})\n",
    "ax = plt.gca()\n",
    "ax.tick_params(axis='x', labelsize=20)\n",
    "ax.tick_params(axis='y', labelsize=20)\n",
    "ax.set_xticklabels(ax.get_xticklabels(), rotation=90)\n",
    "ax.set_yticklabels(ax.get_yticklabels(), rotation=360)\n",
    "cbar = plt.gcf().axes[-1]\n",
    "cbar.tick_params(labelsize=16)\n"
   ]
  },
  {
   "cell_type": "code",
   "execution_count": 3,
   "id": "cf4e852e",
   "metadata": {},
   "outputs": [],
   "source": [
    "# Refining the dataset removing inputs with very hitg correlation\n",
    "\n",
    "df = df[['Micro Pollutant', 'MP Category', 'Initial Concentration of MP (mg/L)', 'Compound MW (g/mol)', 'Compound Charge', 'Initial FS pH','Type of MB', 'MB Contact Angle (°)', 'Draw Solution', 'DS MW (g mol-1)', 'DS Concentration (M)', 'Operating Time (h)', 'Cross Flow Velocity (cm/s)','Water Flux, Jw (LMH)','Reverse Salt Flux, Js (gMH)','Temperature (⁰C)', 'Removal Rate (%)']]\n",
    "\n"
   ]
  },
  {
   "cell_type": "code",
   "execution_count": null,
   "id": "61ebc2c0",
   "metadata": {},
   "outputs": [],
   "source": [
    "plt.figure(figsize=(25,25))\n",
    "my_correlation = df.corr()\n",
    "sns.heatmap(my_correlation,annot=True, cmap='coolwarm',annot_kws={\"size\": 16})\n",
    "ax = plt.gca()\n",
    "ax.tick_params(axis='x', labelsize=20)\n",
    "ax.tick_params(axis='y', labelsize=20)\n",
    "ax.set_xticklabels(ax.get_xticklabels(), rotation=90)\n",
    "ax.set_yticklabels(ax.get_yticklabels(), rotation=360)\n",
    "cbar = plt.gcf().axes[-1]\n",
    "cbar.tick_params(labelsize=16)"
   ]
  },
  {
   "cell_type": "code",
   "execution_count": null,
   "id": "c57cb200",
   "metadata": {},
   "outputs": [],
   "source": [
    "df"
   ]
  },
  {
   "cell_type": "code",
   "execution_count": null,
   "id": "99255976",
   "metadata": {
    "scrolled": false
   },
   "outputs": [],
   "source": [
    "eda()"
   ]
  },
  {
   "cell_type": "code",
   "execution_count": null,
   "id": "188c6c9d",
   "metadata": {},
   "outputs": [],
   "source": [
    "df.groupby('Type of MB').count()\n"
   ]
  },
  {
   "cell_type": "code",
   "execution_count": null,
   "id": "d88dedc5",
   "metadata": {
    "scrolled": true
   },
   "outputs": [],
   "source": [
    "# One-hot encoding categorical parameters for ML\n",
    "\n",
    "MP=pd.get_dummies(df['Micro Pollutant'])\n",
    "MP_Cat=pd.get_dummies(df['MP Category'])\n",
    "MB=pd.get_dummies(df['Type of MB'])\n",
    "DS=pd.get_dummies(df['Draw Solution'])\n",
    "df = pd.concat([df,MP,MP_Cat, MB,DS],axis=1)\n",
    "df"
   ]
  },
  {
   "cell_type": "code",
   "execution_count": null,
   "id": "f65d3b99",
   "metadata": {},
   "outputs": [],
   "source": [
    "df.to_csv('modified_dataset.csv')\n"
   ]
  },
  {
   "cell_type": "code",
   "execution_count": 5,
   "id": "a04d0835",
   "metadata": {},
   "outputs": [
    {
     "data": {
      "text/html": [],
      "text/plain": [
       "<IPython.core.display.HTML object>"
      ]
     },
     "metadata": {},
     "output_type": "display_data"
    },
    {
     "data": {
      "text/html": [
       "<style type=\"text/css\">\n",
       "</style>\n",
       "<table id=\"T_6f7da\">\n",
       "  <thead>\n",
       "  </thead>\n",
       "  <tbody>\n",
       "  </tbody>\n",
       "</table>\n"
      ],
      "text/plain": [
       "<pandas.io.formats.style.Styler at 0x151a536ceb0>"
      ]
     },
     "metadata": {},
     "output_type": "display_data"
    },
    {
     "data": {
      "application/vnd.jupyter.widget-view+json": {
       "model_id": "",
       "version_major": 2,
       "version_minor": 0
      },
      "text/plain": [
       "Processing:   0%|          | 0/65 [00:00<?, ?it/s]"
      ]
     },
     "metadata": {},
     "output_type": "display_data"
    }
   ],
   "source": [
    "# Auto ML using PyCaret with all regression models available\n",
    "\n",
    "best = compare_models() "
   ]
  },
  {
   "cell_type": "code",
   "execution_count": 6,
   "id": "5854b719",
   "metadata": {},
   "outputs": [
    {
     "ename": "ValueError",
     "evalue": "Estimator gbr not available. Please see docstring for list of available estimators.",
     "output_type": "error",
     "traceback": [
      "\u001b[1;31m---------------------------------------------------------------------------\u001b[0m",
      "\u001b[1;31mValueError\u001b[0m                                Traceback (most recent call last)",
      "\u001b[1;32m~\\AppData\\Local\\Temp\\ipykernel_7412\\3697340491.py\u001b[0m in \u001b[0;36m<module>\u001b[1;34m\u001b[0m\n\u001b[0;32m      1\u001b[0m \u001b[1;31m# Creating the ML model based on best models compared above: Gradient Boosting Regress\u001b[0m\u001b[1;33m\u001b[0m\u001b[1;33m\u001b[0m\u001b[0m\n\u001b[1;32m----> 2\u001b[1;33m \u001b[0mgbr\u001b[0m\u001b[1;33m=\u001b[0m\u001b[0mcreate_model\u001b[0m\u001b[1;33m(\u001b[0m\u001b[1;34m'gbr'\u001b[0m\u001b[1;33m)\u001b[0m\u001b[1;33m\u001b[0m\u001b[1;33m\u001b[0m\u001b[0m\n\u001b[0m\u001b[0;32m      3\u001b[0m \u001b[1;33m\u001b[0m\u001b[0m\n",
      "\u001b[1;32m~\\Anaconda3\\lib\\site-packages\\pycaret\\utils\\generic.py\u001b[0m in \u001b[0;36mwrapper\u001b[1;34m(*args, **kwargs)\u001b[0m\n\u001b[0;32m    963\u001b[0m                 \u001b[1;32mif\u001b[0m \u001b[0mglobals_d\u001b[0m\u001b[1;33m[\u001b[0m\u001b[0mname\u001b[0m\u001b[1;33m]\u001b[0m \u001b[1;32mis\u001b[0m \u001b[1;32mNone\u001b[0m\u001b[1;33m:\u001b[0m\u001b[1;33m\u001b[0m\u001b[1;33m\u001b[0m\u001b[0m\n\u001b[0;32m    964\u001b[0m                     \u001b[1;32mraise\u001b[0m \u001b[0mValueError\u001b[0m\u001b[1;33m(\u001b[0m\u001b[0mmessage\u001b[0m\u001b[1;33m)\u001b[0m\u001b[1;33m\u001b[0m\u001b[1;33m\u001b[0m\u001b[0m\n\u001b[1;32m--> 965\u001b[1;33m             \u001b[1;32mreturn\u001b[0m \u001b[0mfunc\u001b[0m\u001b[1;33m(\u001b[0m\u001b[1;33m*\u001b[0m\u001b[0margs\u001b[0m\u001b[1;33m,\u001b[0m \u001b[1;33m**\u001b[0m\u001b[0mkwargs\u001b[0m\u001b[1;33m)\u001b[0m\u001b[1;33m\u001b[0m\u001b[1;33m\u001b[0m\u001b[0m\n\u001b[0m\u001b[0;32m    966\u001b[0m \u001b[1;33m\u001b[0m\u001b[0m\n\u001b[0;32m    967\u001b[0m         \u001b[1;32mreturn\u001b[0m \u001b[0mwrapper\u001b[0m\u001b[1;33m\u001b[0m\u001b[1;33m\u001b[0m\u001b[0m\n",
      "\u001b[1;32m~\\Anaconda3\\lib\\site-packages\\pycaret\\classification\\functional.py\u001b[0m in \u001b[0;36mcreate_model\u001b[1;34m(estimator, fold, round, cross_validation, fit_kwargs, groups, probability_threshold, experiment_custom_tags, engine, verbose, return_train_score, **kwargs)\u001b[0m\n\u001b[0;32m   1010\u001b[0m     \"\"\"\n\u001b[0;32m   1011\u001b[0m \u001b[1;33m\u001b[0m\u001b[0m\n\u001b[1;32m-> 1012\u001b[1;33m     return _CURRENT_EXPERIMENT.create_model(\n\u001b[0m\u001b[0;32m   1013\u001b[0m         \u001b[0mestimator\u001b[0m\u001b[1;33m=\u001b[0m\u001b[0mestimator\u001b[0m\u001b[1;33m,\u001b[0m\u001b[1;33m\u001b[0m\u001b[1;33m\u001b[0m\u001b[0m\n\u001b[0;32m   1014\u001b[0m         \u001b[0mfold\u001b[0m\u001b[1;33m=\u001b[0m\u001b[0mfold\u001b[0m\u001b[1;33m,\u001b[0m\u001b[1;33m\u001b[0m\u001b[1;33m\u001b[0m\u001b[0m\n",
      "\u001b[1;32m~\\Anaconda3\\lib\\site-packages\\pycaret\\classification\\oop.py\u001b[0m in \u001b[0;36mcreate_model\u001b[1;34m(self, estimator, fold, round, cross_validation, fit_kwargs, groups, experiment_custom_tags, probability_threshold, engine, verbose, return_train_score, **kwargs)\u001b[0m\n\u001b[0;32m   1355\u001b[0m \u001b[1;33m\u001b[0m\u001b[0m\n\u001b[0;32m   1356\u001b[0m         \u001b[1;32mtry\u001b[0m\u001b[1;33m:\u001b[0m\u001b[1;33m\u001b[0m\u001b[1;33m\u001b[0m\u001b[0m\n\u001b[1;32m-> 1357\u001b[1;33m             return_values = super().create_model(\n\u001b[0m\u001b[0;32m   1358\u001b[0m                 \u001b[0mestimator\u001b[0m\u001b[1;33m=\u001b[0m\u001b[0mestimator\u001b[0m\u001b[1;33m,\u001b[0m\u001b[1;33m\u001b[0m\u001b[1;33m\u001b[0m\u001b[0m\n\u001b[0;32m   1359\u001b[0m                 \u001b[0mfold\u001b[0m\u001b[1;33m=\u001b[0m\u001b[0mfold\u001b[0m\u001b[1;33m,\u001b[0m\u001b[1;33m\u001b[0m\u001b[1;33m\u001b[0m\u001b[0m\n",
      "\u001b[1;32m~\\Anaconda3\\lib\\site-packages\\pycaret\\internal\\pycaret_experiment\\supervised_experiment.py\u001b[0m in \u001b[0;36mcreate_model\u001b[1;34m(self, estimator, fold, round, cross_validation, predict, fit_kwargs, groups, refit, probability_threshold, experiment_custom_tags, verbose, return_train_score, **kwargs)\u001b[0m\n\u001b[0;32m   1754\u001b[0m             \u001b[1;32mfor\u001b[0m \u001b[0mx\u001b[0m \u001b[1;32min\u001b[0m \u001b[0mkwargs\u001b[0m\u001b[1;33m\u001b[0m\u001b[1;33m\u001b[0m\u001b[0m\n\u001b[0;32m   1755\u001b[0m         )\n\u001b[1;32m-> 1756\u001b[1;33m         return self._create_model(\n\u001b[0m\u001b[0;32m   1757\u001b[0m             \u001b[0mestimator\u001b[0m\u001b[1;33m=\u001b[0m\u001b[0mestimator\u001b[0m\u001b[1;33m,\u001b[0m\u001b[1;33m\u001b[0m\u001b[1;33m\u001b[0m\u001b[0m\n\u001b[0;32m   1758\u001b[0m             \u001b[0mfold\u001b[0m\u001b[1;33m=\u001b[0m\u001b[0mfold\u001b[0m\u001b[1;33m,\u001b[0m\u001b[1;33m\u001b[0m\u001b[1;33m\u001b[0m\u001b[0m\n",
      "\u001b[1;32m~\\Anaconda3\\lib\\site-packages\\pycaret\\internal\\pycaret_experiment\\supervised_experiment.py\u001b[0m in \u001b[0;36m_create_model\u001b[1;34m(self, estimator, fold, round, cross_validation, predict, fit_kwargs, groups, refit, probability_threshold, experiment_custom_tags, verbose, system, add_to_model_list, X_train_data, y_train_data, metrics, display, model_only, return_train_score, **kwargs)\u001b[0m\n\u001b[0;32m   1329\u001b[0m         \u001b[1;32mif\u001b[0m \u001b[0misinstance\u001b[0m\u001b[1;33m(\u001b[0m\u001b[0mestimator\u001b[0m\u001b[1;33m,\u001b[0m \u001b[0mstr\u001b[0m\u001b[1;33m)\u001b[0m\u001b[1;33m:\u001b[0m\u001b[1;33m\u001b[0m\u001b[1;33m\u001b[0m\u001b[0m\n\u001b[0;32m   1330\u001b[0m             \u001b[1;32mif\u001b[0m \u001b[0mestimator\u001b[0m \u001b[1;32mnot\u001b[0m \u001b[1;32min\u001b[0m \u001b[0mavailable_estimators\u001b[0m\u001b[1;33m:\u001b[0m\u001b[1;33m\u001b[0m\u001b[1;33m\u001b[0m\u001b[0m\n\u001b[1;32m-> 1331\u001b[1;33m                 raise ValueError(\n\u001b[0m\u001b[0;32m   1332\u001b[0m                     \u001b[1;34mf\"Estimator {estimator} not available. Please see docstring for list of available estimators.\"\u001b[0m\u001b[1;33m\u001b[0m\u001b[1;33m\u001b[0m\u001b[0m\n\u001b[0;32m   1333\u001b[0m                 )\n",
      "\u001b[1;31mValueError\u001b[0m: Estimator gbr not available. Please see docstring for list of available estimators."
     ]
    }
   ],
   "source": [
    " # Creating the ML model based on best models compared above: Gradient Boosting Regress\n",
    "gbr=create_model('gbr')\n",
    "\n"
   ]
  },
  {
   "cell_type": "code",
   "execution_count": null,
   "id": "dd3660b5",
   "metadata": {},
   "outputs": [],
   "source": [
    "# Plotting prediction accuracy of GBR\n",
    "plot_model(gbr)"
   ]
  },
  {
   "cell_type": "code",
   "execution_count": null,
   "id": "d4ade9c1",
   "metadata": {},
   "outputs": [],
   "source": [
    "plot_model(gbr, plot = 'error')"
   ]
  },
  {
   "cell_type": "code",
   "execution_count": null,
   "id": "31afa3b8",
   "metadata": {},
   "outputs": [],
   "source": [
    " # Creating the ML model based on best models compared above: Extreme Gradient Boosting \n",
    "\n",
    "xgb = create_model('xgboost')"
   ]
  },
  {
   "cell_type": "code",
   "execution_count": null,
   "id": "794dbbe5",
   "metadata": {},
   "outputs": [],
   "source": [
    "# Plotting prediction accuracy of XGB\n",
    "\n",
    "plot_model(xgb)\n",
    "plot_model(xgb, plot = 'error')"
   ]
  },
  {
   "cell_type": "code",
   "execution_count": null,
   "id": "934add5b",
   "metadata": {},
   "outputs": [],
   "source": [
    "interpret_model(xgb)"
   ]
  },
  {
   "cell_type": "code",
   "execution_count": null,
   "id": "087db6a4",
   "metadata": {},
   "outputs": [],
   "source": [
    "# Creating the ML model based on best models compared above: Random Forest\n",
    "\n",
    "rf = create_model('rf')\n",
    "\n",
    "# Plotting prediction accuracy of RF\n",
    "plot_model(rf)\n",
    "plot_model(rf, plot = 'error')"
   ]
  },
  {
   "cell_type": "code",
   "execution_count": null,
   "id": "a54e8eff",
   "metadata": {},
   "outputs": [],
   "source": [
    "# Feature importance plot\n",
    "\n",
    "plot_model(gbr, plot = 'feature')\n",
    "plot_model(rf, plot = 'feature')"
   ]
  },
  {
   "cell_type": "code",
   "execution_count": null,
   "id": "1e4a108a",
   "metadata": {},
   "outputs": [],
   "source": [
    "interpret_model(rf)\n"
   ]
  },
  {
   "cell_type": "code",
   "execution_count": null,
   "id": "1308da9c",
   "metadata": {},
   "outputs": [],
   "source": [
    "interpret_model(xgb)"
   ]
  },
  {
   "cell_type": "code",
   "execution_count": null,
   "id": "7fa16508",
   "metadata": {},
   "outputs": [],
   "source": [
    "# Setting up a new model by choosing Rejection rate (R) as the prediction target\n",
    "\n",
    "setup(data = df, target = 'Removal Rate (%)', session_id = 123,  remove_outliers = True)"
   ]
  },
  {
   "cell_type": "code",
   "execution_count": null,
   "id": "812a7a20",
   "metadata": {},
   "outputs": [],
   "source": [
    "df.['Removal Rate (%)']"
   ]
  },
  {
   "cell_type": "code",
   "execution_count": null,
   "id": "70f7192e",
   "metadata": {},
   "outputs": [],
   "source": [
    "plt.figure(figsize=(25,25))\n",
    "my_correlation = df.corr()\n",
    "sns.heatmap(my_correlation,annot=True, cmap='coolwarm',annot_kws={\"size\": 16})\n",
    "ax = plt.gca()\n",
    "ax.tick_params(axis='x', labelsize=20)\n",
    "ax.tick_params(axis='y', labelsize=20)\n",
    "ax.set_xticklabels(ax.get_xticklabels(), rotation=90)\n",
    "ax.set_yticklabels(ax.get_yticklabels(), rotation=360)\n",
    "cbar = plt.gcf().axes[-1]\n",
    "cbar.tick_params(labelsize=16)"
   ]
  },
  {
   "cell_type": "code",
   "execution_count": null,
   "id": "117adadf",
   "metadata": {},
   "outputs": [],
   "source": [
    "# Auto ML using PyCaret with all regression models available\n",
    "\n",
    "best = compare_models() "
   ]
  },
  {
   "cell_type": "code",
   "execution_count": null,
   "id": "838b7b7e",
   "metadata": {},
   "outputs": [],
   "source": []
  },
  {
   "cell_type": "code",
   "execution_count": null,
   "id": "5ea18991",
   "metadata": {},
   "outputs": [],
   "source": [
    " # Creating the ML model based on best models compared above: Gradient Boosting Regress\n",
    "gbr=create_model('gbr')"
   ]
  },
  {
   "cell_type": "code",
   "execution_count": null,
   "id": "35480e57",
   "metadata": {},
   "outputs": [],
   "source": [
    "# Plotting prediction accuracy of GBR\n",
    "plot_model(gbr)"
   ]
  },
  {
   "cell_type": "code",
   "execution_count": null,
   "id": "23a2b87e",
   "metadata": {},
   "outputs": [],
   "source": [
    "plot_model(gbr, plot = 'error')"
   ]
  },
  {
   "cell_type": "code",
   "execution_count": null,
   "id": "93171ac2",
   "metadata": {},
   "outputs": [],
   "source": [
    " # Creating the ML model based on best models compared above: Extreme Gradient Boosting \n",
    "\n",
    "xgb = create_model('xgboost')"
   ]
  },
  {
   "cell_type": "code",
   "execution_count": null,
   "id": "8d63e086",
   "metadata": {},
   "outputs": [],
   "source": [
    "# Plotting prediction accuracy of XGB\n",
    "\n",
    "plot_model(xgb)"
   ]
  },
  {
   "cell_type": "code",
   "execution_count": null,
   "id": "47f1f0cd",
   "metadata": {},
   "outputs": [],
   "source": [
    "plot_model(xgb, plot = 'error')"
   ]
  },
  {
   "cell_type": "code",
   "execution_count": null,
   "id": "1142772f",
   "metadata": {},
   "outputs": [],
   "source": []
  },
  {
   "cell_type": "code",
   "execution_count": null,
   "id": "7e194639",
   "metadata": {},
   "outputs": [],
   "source": [
    "interpret_model(xgb)"
   ]
  },
  {
   "cell_type": "code",
   "execution_count": null,
   "id": "bff69e5a",
   "metadata": {
    "scrolled": true
   },
   "outputs": [],
   "source": [
    "# Creating the ML model based on best models compared above: Random Forest\n",
    "    \n",
    "rf = create_model('rf')"
   ]
  },
  {
   "cell_type": "code",
   "execution_count": null,
   "id": "447c53a8",
   "metadata": {},
   "outputs": [],
   "source": []
  },
  {
   "cell_type": "code",
   "execution_count": null,
   "id": "c9cacd68",
   "metadata": {},
   "outputs": [],
   "source": [
    "# Plotting prediction accuracy of XGB\n",
    "\n",
    "plot_model(xgb)"
   ]
  },
  {
   "cell_type": "code",
   "execution_count": null,
   "id": "0c5445ae",
   "metadata": {},
   "outputs": [],
   "source": [
    "# Plotting prediction accuracy of RF\n",
    "\n",
    "plot_model(rf)"
   ]
  },
  {
   "cell_type": "code",
   "execution_count": null,
   "id": "7a34ab62",
   "metadata": {},
   "outputs": [],
   "source": [
    "plot_model(rf, plot = 'error')"
   ]
  },
  {
   "cell_type": "code",
   "execution_count": null,
   "id": "6778cac6",
   "metadata": {},
   "outputs": [],
   "source": [
    "interpret_model(rf)"
   ]
  },
  {
   "cell_type": "code",
   "execution_count": null,
   "id": "644d11be",
   "metadata": {},
   "outputs": [],
   "source": [
    "svr = create_model('svm')"
   ]
  },
  {
   "cell_type": "code",
   "execution_count": null,
   "id": "75542fd2",
   "metadata": {},
   "outputs": [],
   "source": [
    "# Plotting prediction accuracy of SVR\n",
    "\n",
    "plot_model(svr)"
   ]
  },
  {
   "cell_type": "code",
   "execution_count": null,
   "id": "ab72c362",
   "metadata": {},
   "outputs": [],
   "source": [
    "! pip install shap\n",
    "interpret_model(rf)\n"
   ]
  },
  {
   "cell_type": "code",
   "execution_count": null,
   "id": "d593fcb4",
   "metadata": {},
   "outputs": [],
   "source": [
    "plot_model(svr, plot = 'error')"
   ]
  },
  {
   "cell_type": "code",
   "execution_count": null,
   "id": "c965575a",
   "metadata": {},
   "outputs": [],
   "source": [
    "plot_model(gbr, plot = 'feature')"
   ]
  },
  {
   "cell_type": "code",
   "execution_count": null,
   "id": "51e0a53d",
   "metadata": {},
   "outputs": [],
   "source": [
    "plot_model(rf, plot = 'feature')"
   ]
  },
  {
   "cell_type": "code",
   "execution_count": null,
   "id": "c33d111d",
   "metadata": {},
   "outputs": [],
   "source": [
    "create_app(gbr)"
   ]
  },
  {
   "cell_type": "code",
   "execution_count": null,
   "id": "0d2ee86d",
   "metadata": {},
   "outputs": [],
   "source": [
    "! pip install gradio"
   ]
  },
  {
   "cell_type": "code",
   "execution_count": null,
   "id": "74d458d7",
   "metadata": {},
   "outputs": [],
   "source": [
    "pip install pycaret[mlops]"
   ]
  },
  {
   "cell_type": "code",
   "execution_count": null,
   "id": "3fdf4618",
   "metadata": {},
   "outputs": [],
   "source": []
  }
 ],
 "metadata": {
  "kernelspec": {
   "display_name": "Python 3 (ipykernel)",
   "language": "python",
   "name": "python3"
  },
  "language_info": {
   "codemirror_mode": {
    "name": "ipython",
    "version": 3
   },
   "file_extension": ".py",
   "mimetype": "text/x-python",
   "name": "python",
   "nbconvert_exporter": "python",
   "pygments_lexer": "ipython3",
   "version": "3.9.13"
  }
 },
 "nbformat": 4,
 "nbformat_minor": 5
}
