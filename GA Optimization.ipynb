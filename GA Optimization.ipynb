{
 "cells": [
  {
   "cell_type": "code",
   "execution_count": null,
   "id": "e81234d0",
   "metadata": {},
   "outputs": [],
   "source": [
    "# Import necessary libraries\n",
    "\n",
    "import numpy as np\n",
    "import pandas as pd\n",
    "from pycaret.regression import *\n",
    "! pip3 install pygad\n",
    "import pygad"
   ]
  },
  {
   "cell_type": "code",
   "execution_count": null,
   "id": "da803156",
   "metadata": {},
   "outputs": [],
   "source": [
    "# Load the dataset\n",
    "df = pd.read_csv(\"Database.csv\")\n",
    "\n",
    "# Select relevant columns for optimization\n",
    "df_optimize = df[['MB Contact Angle (°)', 'DS MW (g mol-1)', 'DS Concentration (M)',\n",
    "                  'Operating Time (h)', 'Cross Flow Velocity (cm/s)', 'Temperature (⁰C)',\n",
    "                  'Water Flux, Jw (LMH)']]"
   ]
  },
  {
   "cell_type": "code",
   "execution_count": null,
   "id": "d795e199",
   "metadata": {},
   "outputs": [],
   "source": [
    "# Initialize PyCaret setup\n",
    "setup(data=df_optimize, target='Water Flux, Jw (LMH)', session_id=123)"
   ]
  },
  {
   "cell_type": "code",
   "execution_count": null,
   "id": "f5eff229",
   "metadata": {},
   "outputs": [],
   "source": [
    "# Define the fitness function\n",
    "def fitness_function(ga_instance, variables, solution_idx):\n",
    "    # Set the operating conditions based on the solution\n",
    "    mb_contact_angle = variables[0]\n",
    "    ds_mw = variables[1]\n",
    "    ds_concentration = variables[2]\n",
    "    operating_time = variables[3]\n",
    "    cross_flow_velocity = variables[4]\n",
    "    temperature = variables[5]\n",
    "\n",
    "    # Set the operating conditions in the dataset\n",
    "    df['MB Contact Angle (°)'] = mb_contact_angle\n",
    "    df['DS MW (g mol-1)'] = ds_mw\n",
    "    df['DS Concentration (M)'] = ds_concentration\n",
    "    df['Operating Time (h)'] = operating_time\n",
    "    df['Cross Flow Velocity (cm/s)'] = cross_flow_velocity\n",
    "    df['Temperature (⁰C)'] = temperature\n",
    "    \n",
    "    # Train the machine learning model\n",
    "    gbr = create_model('gbr')\n",
    "\n",
    "    # Make predictions\n",
    "    predictions = predict_model(gbr, data=df)\n",
    "\n",
    "    # Calculate the fitness value (e.g., maximize water flux)\n",
    "    fitness_value = -predictions['Water Flux, Jw (LMH)'].mean()  # Negative sign for maximization\n",
    "\n",
    "    return fitness_value"
   ]
  },
  {
   "cell_type": "code",
   "execution_count": null,
   "id": "3b7fa6d3",
   "metadata": {},
   "outputs": [],
   "source": [
    "# Define the bounds for each operating condition\n",
    "bounds = np.array([\n",
    "    [0, 110],  # MB Contact Angle (°)\n",
    "    [40, 400],  # DS MW (g mol-1)\n",
    "    [0.1,5],  # DS Concentration (M)\n",
    "    [0.5, 48],  # Operating Time (h)\n",
    "    [5, 100],  # Cross Flow Velocity (cm/s)\n",
    "    [10, 50]   # Temperature (⁰C)\n",
    "])\n",
    "\n",
    "num_generations = 10\n",
    "population_size = 50\n",
    "mutation_prob = 0.1\n",
    "crossover_prob = 0.5"
   ]
  },
  {
   "cell_type": "code",
   "execution_count": null,
   "id": "389db736",
   "metadata": {},
   "outputs": [],
   "source": [
    "# Create an instance of the pygad.GA class\n",
    "ga_instance = pygad.GA(num_generations=num_generations,\n",
    "                       num_parents_mating=10,\n",
    "                       sol_per_pop=population_size,\n",
    "                       num_genes=len(bounds),\n",
    "                       fitness_func=fitness_function,\n",
    "                       gene_type=np.float32,\n",
    "                       gene_space=bounds,\n",
    "                       mutation_percent_genes=mutation_prob,\n",
    "                       crossover_probability=crossover_prob,\n",
    "                       random_mutation_min_val=0,\n",
    "                       random_mutation_max_val=1)\n",
    "\n",
    "# Run the genetic algorithm optimization\n",
    "ga_instance.run()"
   ]
  },
  {
   "cell_type": "code",
   "execution_count": null,
   "id": "bfcfcf9d",
   "metadata": {},
   "outputs": [],
   "source": [
    "# Get the best solution and its fitness value\n",
    "best_solution, best_fitness = ga_instance.best_solution(), ga_instance.best_solution_fitness()\n",
    "\n",
    "# Print the best solution and its fitness value\n",
    "print(\"Best Solution:\", best_solution)\n",
    "print(\"Best Fitness:\", best_solution_fitness)"
   ]
  }
 ],
 "metadata": {
  "kernelspec": {
   "display_name": "Python 3 (ipykernel)",
   "language": "python",
   "name": "python3"
  },
  "language_info": {
   "codemirror_mode": {
    "name": "ipython",
    "version": 3
   },
   "file_extension": ".py",
   "mimetype": "text/x-python",
   "name": "python",
   "nbconvert_exporter": "python",
   "pygments_lexer": "ipython3",
   "version": "3.9.13"
  }
 },
 "nbformat": 4,
 "nbformat_minor": 5
}
